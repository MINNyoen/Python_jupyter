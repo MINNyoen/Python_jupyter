{
 "cells": [
  {
   "cell_type": "code",
   "execution_count": 138,
   "id": "774afbf0",
   "metadata": {},
   "outputs": [],
   "source": [
    "import pandas as pd\n",
    "import numpy as np\n",
    "import matplotlib.pyplot as plt\n",
    "import warnings"
   ]
  },
  {
   "cell_type": "code",
   "execution_count": 139,
   "id": "f53be7be",
   "metadata": {},
   "outputs": [
    {
     "data": {
      "text/html": [
       "<div>\n",
       "<style scoped>\n",
       "    .dataframe tbody tr th:only-of-type {\n",
       "        vertical-align: middle;\n",
       "    }\n",
       "\n",
       "    .dataframe tbody tr th {\n",
       "        vertical-align: top;\n",
       "    }\n",
       "\n",
       "    .dataframe thead th {\n",
       "        text-align: right;\n",
       "    }\n",
       "</style>\n",
       "<table border=\"1\" class=\"dataframe\">\n",
       "  <thead>\n",
       "    <tr style=\"text-align: right;\">\n",
       "      <th></th>\n",
       "      <th>일자</th>\n",
       "      <th>총지수</th>\n",
       "      <th>상승</th>\n",
       "      <th>하락</th>\n",
       "      <th>상승하락_합</th>\n",
       "    </tr>\n",
       "  </thead>\n",
       "  <tbody>\n",
       "    <tr>\n",
       "      <th>0</th>\n",
       "      <td>201101</td>\n",
       "      <td>82.427</td>\n",
       "      <td>171</td>\n",
       "      <td>19</td>\n",
       "      <td>152</td>\n",
       "    </tr>\n",
       "    <tr>\n",
       "      <th>1</th>\n",
       "      <td>201102</td>\n",
       "      <td>83.091</td>\n",
       "      <td>167</td>\n",
       "      <td>9</td>\n",
       "      <td>158</td>\n",
       "    </tr>\n",
       "    <tr>\n",
       "      <th>2</th>\n",
       "      <td>201103</td>\n",
       "      <td>83.906</td>\n",
       "      <td>94</td>\n",
       "      <td>19</td>\n",
       "      <td>75</td>\n",
       "    </tr>\n",
       "    <tr>\n",
       "      <th>3</th>\n",
       "      <td>201104</td>\n",
       "      <td>84.602</td>\n",
       "      <td>66</td>\n",
       "      <td>27</td>\n",
       "      <td>39</td>\n",
       "    </tr>\n",
       "    <tr>\n",
       "      <th>4</th>\n",
       "      <td>201105</td>\n",
       "      <td>85.194</td>\n",
       "      <td>96</td>\n",
       "      <td>48</td>\n",
       "      <td>48</td>\n",
       "    </tr>\n",
       "    <tr>\n",
       "      <th>...</th>\n",
       "      <td>...</td>\n",
       "      <td>...</td>\n",
       "      <td>...</td>\n",
       "      <td>...</td>\n",
       "      <td>...</td>\n",
       "    </tr>\n",
       "    <tr>\n",
       "      <th>115</th>\n",
       "      <td>202008</td>\n",
       "      <td>103.505</td>\n",
       "      <td>179</td>\n",
       "      <td>7</td>\n",
       "      <td>172</td>\n",
       "    </tr>\n",
       "    <tr>\n",
       "      <th>116</th>\n",
       "      <td>202009</td>\n",
       "      <td>104.333</td>\n",
       "      <td>147</td>\n",
       "      <td>8</td>\n",
       "      <td>139</td>\n",
       "    </tr>\n",
       "    <tr>\n",
       "      <th>117</th>\n",
       "      <td>202010</td>\n",
       "      <td>105.035</td>\n",
       "      <td>118</td>\n",
       "      <td>15</td>\n",
       "      <td>103</td>\n",
       "    </tr>\n",
       "    <tr>\n",
       "      <th>118</th>\n",
       "      <td>202011</td>\n",
       "      <td>106.549</td>\n",
       "      <td>140</td>\n",
       "      <td>3</td>\n",
       "      <td>137</td>\n",
       "    </tr>\n",
       "    <tr>\n",
       "      <th>119</th>\n",
       "      <td>202012</td>\n",
       "      <td>108.010</td>\n",
       "      <td>177</td>\n",
       "      <td>14</td>\n",
       "      <td>163</td>\n",
       "    </tr>\n",
       "  </tbody>\n",
       "</table>\n",
       "<p>120 rows × 5 columns</p>\n",
       "</div>"
      ],
      "text/plain": [
       "         일자      총지수   상승  하락  상승하락_합\n",
       "0    201101   82.427  171  19     152\n",
       "1    201102   83.091  167   9     158\n",
       "2    201103   83.906   94  19      75\n",
       "3    201104   84.602   66  27      39\n",
       "4    201105   85.194   96  48      48\n",
       "..      ...      ...  ...  ..     ...\n",
       "115  202008  103.505  179   7     172\n",
       "116  202009  104.333  147   8     139\n",
       "117  202010  105.035  118  15     103\n",
       "118  202011  106.549  140   3     137\n",
       "119  202012  108.010  177  14     163\n",
       "\n",
       "[120 rows x 5 columns]"
      ]
     },
     "execution_count": 139,
     "metadata": {},
     "output_type": "execute_result"
    }
   ],
   "source": [
    "data = pd.read_csv('../../Documents/Data/Project/ML_data.csv',\n",
    "                   engine=\"python\", encoding='utf-8')\n",
    "data[\"상승하락_합\"] = data[\"상승\"] - data[\"하락\"]\n",
    "data"
   ]
  },
  {
   "cell_type": "code",
   "execution_count": 140,
   "id": "e005c7e9",
   "metadata": {},
   "outputs": [
    {
     "data": {
      "text/html": [
       "<div>\n",
       "<style scoped>\n",
       "    .dataframe tbody tr th:only-of-type {\n",
       "        vertical-align: middle;\n",
       "    }\n",
       "\n",
       "    .dataframe tbody tr th {\n",
       "        vertical-align: top;\n",
       "    }\n",
       "\n",
       "    .dataframe thead th {\n",
       "        text-align: right;\n",
       "    }\n",
       "</style>\n",
       "<table border=\"1\" class=\"dataframe\">\n",
       "  <thead>\n",
       "    <tr style=\"text-align: right;\">\n",
       "      <th></th>\n",
       "      <th>상승</th>\n",
       "      <th>하락</th>\n",
       "    </tr>\n",
       "  </thead>\n",
       "  <tbody>\n",
       "    <tr>\n",
       "      <th>0</th>\n",
       "      <td>171</td>\n",
       "      <td>19</td>\n",
       "    </tr>\n",
       "    <tr>\n",
       "      <th>1</th>\n",
       "      <td>167</td>\n",
       "      <td>9</td>\n",
       "    </tr>\n",
       "    <tr>\n",
       "      <th>2</th>\n",
       "      <td>94</td>\n",
       "      <td>19</td>\n",
       "    </tr>\n",
       "    <tr>\n",
       "      <th>3</th>\n",
       "      <td>66</td>\n",
       "      <td>27</td>\n",
       "    </tr>\n",
       "    <tr>\n",
       "      <th>4</th>\n",
       "      <td>96</td>\n",
       "      <td>48</td>\n",
       "    </tr>\n",
       "    <tr>\n",
       "      <th>...</th>\n",
       "      <td>...</td>\n",
       "      <td>...</td>\n",
       "    </tr>\n",
       "    <tr>\n",
       "      <th>115</th>\n",
       "      <td>179</td>\n",
       "      <td>7</td>\n",
       "    </tr>\n",
       "    <tr>\n",
       "      <th>116</th>\n",
       "      <td>147</td>\n",
       "      <td>8</td>\n",
       "    </tr>\n",
       "    <tr>\n",
       "      <th>117</th>\n",
       "      <td>118</td>\n",
       "      <td>15</td>\n",
       "    </tr>\n",
       "    <tr>\n",
       "      <th>118</th>\n",
       "      <td>140</td>\n",
       "      <td>3</td>\n",
       "    </tr>\n",
       "    <tr>\n",
       "      <th>119</th>\n",
       "      <td>177</td>\n",
       "      <td>14</td>\n",
       "    </tr>\n",
       "  </tbody>\n",
       "</table>\n",
       "<p>120 rows × 2 columns</p>\n",
       "</div>"
      ],
      "text/plain": [
       "      상승  하락\n",
       "0    171  19\n",
       "1    167   9\n",
       "2     94  19\n",
       "3     66  27\n",
       "4     96  48\n",
       "..   ...  ..\n",
       "115  179   7\n",
       "116  147   8\n",
       "117  118  15\n",
       "118  140   3\n",
       "119  177  14\n",
       "\n",
       "[120 rows x 2 columns]"
      ]
     },
     "execution_count": 140,
     "metadata": {},
     "output_type": "execute_result"
    }
   ],
   "source": [
    "data_y = data.loc[:,[\"총지수\"]]\n",
    "data_y\n",
    "data_x2 = data.loc[:,[\"상승\",\"하락\"]]\n",
    "data_x2"
   ]
  },
  {
   "cell_type": "code",
   "execution_count": 141,
   "id": "0c75d2b0",
   "metadata": {},
   "outputs": [],
   "source": [
    "data_x1 = data.loc[:,[\"상승하락_합\"]]"
   ]
  },
  {
   "cell_type": "code",
   "execution_count": 142,
   "id": "490aaad5",
   "metadata": {},
   "outputs": [
    {
     "data": {
      "text/html": [
       "<div>\n",
       "<style scoped>\n",
       "    .dataframe tbody tr th:only-of-type {\n",
       "        vertical-align: middle;\n",
       "    }\n",
       "\n",
       "    .dataframe tbody tr th {\n",
       "        vertical-align: top;\n",
       "    }\n",
       "\n",
       "    .dataframe thead th {\n",
       "        text-align: right;\n",
       "    }\n",
       "</style>\n",
       "<table border=\"1\" class=\"dataframe\">\n",
       "  <thead>\n",
       "    <tr style=\"text-align: right;\">\n",
       "      <th></th>\n",
       "      <th>상승하락_합</th>\n",
       "    </tr>\n",
       "  </thead>\n",
       "  <tbody>\n",
       "    <tr>\n",
       "      <th>0</th>\n",
       "      <td>5.030438</td>\n",
       "    </tr>\n",
       "    <tr>\n",
       "      <th>1</th>\n",
       "      <td>5.068904</td>\n",
       "    </tr>\n",
       "    <tr>\n",
       "      <th>2</th>\n",
       "      <td>4.330733</td>\n",
       "    </tr>\n",
       "    <tr>\n",
       "      <th>3</th>\n",
       "      <td>3.688879</td>\n",
       "    </tr>\n",
       "    <tr>\n",
       "      <th>4</th>\n",
       "      <td>3.891820</td>\n",
       "    </tr>\n",
       "    <tr>\n",
       "      <th>...</th>\n",
       "      <td>...</td>\n",
       "    </tr>\n",
       "    <tr>\n",
       "      <th>115</th>\n",
       "      <td>5.153292</td>\n",
       "    </tr>\n",
       "    <tr>\n",
       "      <th>116</th>\n",
       "      <td>4.941642</td>\n",
       "    </tr>\n",
       "    <tr>\n",
       "      <th>117</th>\n",
       "      <td>4.644391</td>\n",
       "    </tr>\n",
       "    <tr>\n",
       "      <th>118</th>\n",
       "      <td>4.927254</td>\n",
       "    </tr>\n",
       "    <tr>\n",
       "      <th>119</th>\n",
       "      <td>5.099866</td>\n",
       "    </tr>\n",
       "  </tbody>\n",
       "</table>\n",
       "<p>120 rows × 1 columns</p>\n",
       "</div>"
      ],
      "text/plain": [
       "       상승하락_합\n",
       "0    5.030438\n",
       "1    5.068904\n",
       "2    4.330733\n",
       "3    3.688879\n",
       "4    3.891820\n",
       "..        ...\n",
       "115  5.153292\n",
       "116  4.941642\n",
       "117  4.644391\n",
       "118  4.927254\n",
       "119  5.099866\n",
       "\n",
       "[120 rows x 1 columns]"
      ]
     },
     "execution_count": 142,
     "metadata": {},
     "output_type": "execute_result"
    }
   ],
   "source": [
    "for i in range(len(data_x1.values)) :\n",
    "    if data_x1.values[i] < 0 :\n",
    "        data_x1.values[i] = 0\n",
    "data_x3 = np.log1p(data_x1, )\n",
    "data_x3"
   ]
  },
  {
   "cell_type": "code",
   "execution_count": 143,
   "id": "feb66989",
   "metadata": {},
   "outputs": [
    {
     "data": {
      "image/png": "[encoded data removed]",
      "text/plain": [
       "<Figure size 432x288 with 1 Axes>"
      ]
     },
     "metadata": {
      "needs_background": "light"
     },
     "output_type": "display_data"
    }
   ],
   "source": [
    "plt.plot(data_y,data_x3)\n",
    "plt.show()"
   ]
  },
  {
   "cell_type": "code",
   "execution_count": 144,
   "id": "5977ec6d",
   "metadata": {},
   "outputs": [
    {
     "name": "stdout",
     "output_type": "stream",
     "text": [
      "[[94.27707249]\n",
      " [-0.33698591]]\n"
     ]
    }
   ],
   "source": [
    "x0 = np.ones((data_x3.shape[0],1))\n",
    "X = np.hstack((x0,data_x3))\n",
    "w1 = np.linalg.inv(X.T.dot(X)).dot(X.T).dot(data_y)\n",
    "print(w1)"
   ]
  },
  {
   "cell_type": "code",
   "execution_count": 145,
   "id": "9af31c53",
   "metadata": {},
   "outputs": [
    {
     "data": {
      "image/png": "[encoded data removed]",
      "text/plain": [
       "<Figure size 432x288 with 1 Axes>"
      ]
     },
     "metadata": {
      "needs_background": "light"
     },
     "output_type": "display_data"
    }
   ],
   "source": [
    "plt.scatter(data_x3, data_y)\n",
    "plt.plot([0,10], [w1[0], 10*w1[1]+w1[0]], 'r')\n",
    "plt.xlabel('x')\n",
    "plt.ylabel('y')\n",
    "plt.show()"
   ]
  },
  {
   "cell_type": "code",
   "execution_count": 146,
   "id": "002975ee",
   "metadata": {
    "scrolled": true
   },
   "outputs": [],
   "source": [
    "import sklearn\n",
    "from sklearn.linear_model import LinearRegression\n",
    "from sklearn.model_selection import train_test_split"
   ]
  },
  {
   "cell_type": "markdown",
   "id": "0ce91710",
   "metadata": {},
   "source": [
    "## 1차 선형회귀분석"
   ]
  },
  {
   "cell_type": "code",
   "execution_count": 147,
   "id": "4bd26cee",
   "metadata": {},
   "outputs": [],
   "source": [
    "data_x1 = data.loc[:,[\"상승하락_합\"]]"
   ]
  },
  {
   "cell_type": "code",
   "execution_count": 148,
   "id": "e8a89603",
   "metadata": {},
   "outputs": [
    {
     "name": "stdout",
     "output_type": "stream",
     "text": [
      "[[ 9.33245718e+01]\n",
      " [-2.71768417e-03]]\n"
     ]
    }
   ],
   "source": [
    "x0 = np.ones((data_x1.shape[0],1))\n",
    "X = np.hstack((x0,data_x1))\n",
    "w = np.linalg.inv(X.T.dot(X)).dot(X.T).dot(data_y)\n",
    "print(w)"
   ]
  },
  {
   "cell_type": "code",
   "execution_count": 149,
   "id": "2a91bbaa",
   "metadata": {},
   "outputs": [
    {
     "data": {
      "image/png": "[encoded data removed]",
      "text/plain": [
       "<Figure size 432x288 with 1 Axes>"
      ]
     },
     "metadata": {
      "needs_background": "light"
     },
     "output_type": "display_data"
    }
   ],
   "source": [
    "plt.scatter(data_x1, data_y)\n",
    "plt.plot([0,10], [w[0], 10*w[1]+w[0]], 'r')\n",
    "plt.xlabel('x')\n",
    "plt.ylabel('y')\n",
    "plt.show()"
   ]
  },
  {
   "cell_type": "code",
   "execution_count": 150,
   "id": "e977f4cf",
   "metadata": {},
   "outputs": [],
   "source": [
    "X_train, X_test, Y_train, Y_test = train_test_split(data_x1,data_y, random_state=42)"
   ]
  },
  {
   "cell_type": "code",
   "execution_count": 151,
   "id": "f1f226b0",
   "metadata": {},
   "outputs": [
    {
     "name": "stdout",
     "output_type": "stream",
     "text": [
      "[[0.00065048]] [93.47058888]\n"
     ]
    }
   ],
   "source": [
    "clf = LinearRegression()\n",
    "clf.fit(X_train,Y_train)\n",
    "# 추정 된 모수 확인(상수항 제외) & 상수항 확인               \n",
    "print(clf.coef_,clf.intercept_)"
   ]
  },
  {
   "cell_type": "code",
   "execution_count": 152,
   "id": "45e80113",
   "metadata": {},
   "outputs": [
    {
     "data": {
      "text/plain": [
       "-0.05163598877561615"
      ]
     },
     "execution_count": 152,
     "metadata": {},
     "output_type": "execute_result"
    }
   ],
   "source": [
    "clf.predict(X_test)        # 예측\n",
    "clf.score(X_test, Y_test) # 모형 성능 평가"
   ]
  },
  {
   "cell_type": "markdown",
   "id": "0e8513d2",
   "metadata": {},
   "source": [
    "## 2차 선형회귀분석 (K-FOLD)"
   ]
  },
  {
   "cell_type": "code",
   "execution_count": 153,
   "id": "d1106be8",
   "metadata": {},
   "outputs": [
    {
     "name": "stdout",
     "output_type": "stream",
     "text": [
      "-23.603974217528275\n",
      "-62.28043266556783\n",
      "-0.18246385659297037\n",
      "-17.042446274920323\n",
      "-17.275827904369397\n",
      "총 평균 스코어.. -24.07702898379576\n"
     ]
    }
   ],
   "source": [
    "from sklearn.model_selection import KFold\n",
    "kfold = KFold(n_splits=5, shuffle= False)\n",
    "\n",
    "omg = []\n",
    "\n",
    "for train_idx, test_idx in kfold.split(data_x2, data_y) :\n",
    "    X_train, X_test = data_x2.iloc[train_idx], data_x2.iloc[test_idx]\n",
    "    Y_train, Y_test = data_y.iloc[train_idx], data_y.iloc[test_idx]\n",
    "    \n",
    "\n",
    "    clf.fit(X_train, Y_train)\n",
    "    pred = clf.predict(X_test)\n",
    "    omg.append(clf.score(X_test, Y_test))\n",
    "    \n",
    "    print(clf.score(X_test, Y_test))\n",
    "    \n",
    "print(\"총 평균 스코어..\", np.mean(omg))"
   ]
  },
  {
   "cell_type": "code",
   "execution_count": 154,
   "id": "56b65798",
   "metadata": {},
   "outputs": [
    {
     "data": {
      "text/html": [
       "<div>\n",
       "<style scoped>\n",
       "    .dataframe tbody tr th:only-of-type {\n",
       "        vertical-align: middle;\n",
       "    }\n",
       "\n",
       "    .dataframe tbody tr th {\n",
       "        vertical-align: top;\n",
       "    }\n",
       "\n",
       "    .dataframe thead th {\n",
       "        text-align: right;\n",
       "    }\n",
       "</style>\n",
       "<table border=\"1\" class=\"dataframe\">\n",
       "  <thead>\n",
       "    <tr style=\"text-align: right;\">\n",
       "      <th></th>\n",
       "      <th>fit_time</th>\n",
       "      <th>score_time</th>\n",
       "      <th>test_score</th>\n",
       "      <th>train_score</th>\n",
       "    </tr>\n",
       "  </thead>\n",
       "  <tbody>\n",
       "    <tr>\n",
       "      <th>0</th>\n",
       "      <td>0.006000</td>\n",
       "      <td>0.004001</td>\n",
       "      <td>-23.603974</td>\n",
       "      <td>0.072438</td>\n",
       "    </tr>\n",
       "    <tr>\n",
       "      <th>1</th>\n",
       "      <td>0.005998</td>\n",
       "      <td>0.004001</td>\n",
       "      <td>-62.280433</td>\n",
       "      <td>0.028177</td>\n",
       "    </tr>\n",
       "    <tr>\n",
       "      <th>2</th>\n",
       "      <td>0.006001</td>\n",
       "      <td>0.006000</td>\n",
       "      <td>-0.182464</td>\n",
       "      <td>0.027789</td>\n",
       "    </tr>\n",
       "    <tr>\n",
       "      <th>3</th>\n",
       "      <td>0.004998</td>\n",
       "      <td>0.004000</td>\n",
       "      <td>-17.042446</td>\n",
       "      <td>0.064705</td>\n",
       "    </tr>\n",
       "    <tr>\n",
       "      <th>4</th>\n",
       "      <td>0.006001</td>\n",
       "      <td>0.004000</td>\n",
       "      <td>-17.275828</td>\n",
       "      <td>0.061094</td>\n",
       "    </tr>\n",
       "  </tbody>\n",
       "</table>\n",
       "</div>"
      ],
      "text/plain": [
       "   fit_time  score_time  test_score  train_score\n",
       "0  0.006000    0.004001  -23.603974     0.072438\n",
       "1  0.005998    0.004001  -62.280433     0.028177\n",
       "2  0.006001    0.006000   -0.182464     0.027789\n",
       "3  0.004998    0.004000  -17.042446     0.064705\n",
       "4  0.006001    0.004000  -17.275828     0.061094"
      ]
     },
     "execution_count": 154,
     "metadata": {},
     "output_type": "execute_result"
    }
   ],
   "source": [
    "from sklearn.model_selection import cross_val_score, cross_validate\n",
    "from pandas import Series, DataFrame\n",
    "\n",
    "# cross_val_score 수행\n",
    "cross_val_score(clf, data_x2, data_y, cv = 5)\n",
    "# 유효성 평가\n",
    "DataFrame(cross_validate(clf, data_x2, data_y, cv = 5, return_train_score = True))"
   ]
  },
  {
   "cell_type": "markdown",
   "id": "1b0648cf",
   "metadata": {},
   "source": [
    "# 시계열"
   ]
  },
  {
   "cell_type": "code",
   "execution_count": 155,
   "id": "ba098f96",
   "metadata": {},
   "outputs": [
    {
     "data": {
      "text/html": [
       "<div>\n",
       "<style scoped>\n",
       "    .dataframe tbody tr th:only-of-type {\n",
       "        vertical-align: middle;\n",
       "    }\n",
       "\n",
       "    .dataframe tbody tr th {\n",
       "        vertical-align: top;\n",
       "    }\n",
       "\n",
       "    .dataframe thead th {\n",
       "        text-align: right;\n",
       "    }\n",
       "</style>\n",
       "<table border=\"1\" class=\"dataframe\">\n",
       "  <thead>\n",
       "    <tr style=\"text-align: right;\">\n",
       "      <th></th>\n",
       "      <th>ds</th>\n",
       "      <th>y</th>\n",
       "    </tr>\n",
       "  </thead>\n",
       "  <tbody>\n",
       "    <tr>\n",
       "      <th>0</th>\n",
       "      <td>2011-01-01</td>\n",
       "      <td>82.427</td>\n",
       "    </tr>\n",
       "    <tr>\n",
       "      <th>1</th>\n",
       "      <td>2011-02-01</td>\n",
       "      <td>83.091</td>\n",
       "    </tr>\n",
       "    <tr>\n",
       "      <th>2</th>\n",
       "      <td>2011-03-01</td>\n",
       "      <td>83.906</td>\n",
       "    </tr>\n",
       "    <tr>\n",
       "      <th>3</th>\n",
       "      <td>2011-04-01</td>\n",
       "      <td>84.602</td>\n",
       "    </tr>\n",
       "    <tr>\n",
       "      <th>4</th>\n",
       "      <td>2011-05-01</td>\n",
       "      <td>85.194</td>\n",
       "    </tr>\n",
       "    <tr>\n",
       "      <th>...</th>\n",
       "      <td>...</td>\n",
       "      <td>...</td>\n",
       "    </tr>\n",
       "    <tr>\n",
       "      <th>115</th>\n",
       "      <td>2020-08-01</td>\n",
       "      <td>103.505</td>\n",
       "    </tr>\n",
       "    <tr>\n",
       "      <th>116</th>\n",
       "      <td>2020-09-01</td>\n",
       "      <td>104.333</td>\n",
       "    </tr>\n",
       "    <tr>\n",
       "      <th>117</th>\n",
       "      <td>2020-10-01</td>\n",
       "      <td>105.035</td>\n",
       "    </tr>\n",
       "    <tr>\n",
       "      <th>118</th>\n",
       "      <td>2020-11-01</td>\n",
       "      <td>106.549</td>\n",
       "    </tr>\n",
       "    <tr>\n",
       "      <th>119</th>\n",
       "      <td>2020-12-01</td>\n",
       "      <td>108.010</td>\n",
       "    </tr>\n",
       "  </tbody>\n",
       "</table>\n",
       "<p>120 rows × 2 columns</p>\n",
       "</div>"
      ],
      "text/plain": [
       "            ds        y\n",
       "0   2011-01-01   82.427\n",
       "1   2011-02-01   83.091\n",
       "2   2011-03-01   83.906\n",
       "3   2011-04-01   84.602\n",
       "4   2011-05-01   85.194\n",
       "..         ...      ...\n",
       "115 2020-08-01  103.505\n",
       "116 2020-09-01  104.333\n",
       "117 2020-10-01  105.035\n",
       "118 2020-11-01  106.549\n",
       "119 2020-12-01  108.010\n",
       "\n",
       "[120 rows x 2 columns]"
      ]
     },
     "execution_count": 155,
     "metadata": {},
     "output_type": "execute_result"
    }
   ],
   "source": [
    "con = lambda x : x[:4] + \"-\" + x[4:]\n",
    "data_p=data.loc[:,[\"일자\",\"총지수\"]]\n",
    "data_p[\"일자\"]= data_p[\"일자\"].astype(\"str\")\n",
    "data_p[\"일자\"] = data_p[\"일자\"].map(con)\n",
    "data_p.rename(columns={\"일자\":\"ds\",\"총지수\": \"y\"}, inplace=True)\n",
    "data_p= data_p.astype({\"ds\":\"datetime64[ns]\",\"y\":\"float\"})\n",
    "data_p"
   ]
  },
  {
   "cell_type": "code",
   "execution_count": 156,
   "id": "80021c06",
   "metadata": {},
   "outputs": [
    {
     "name": "stderr",
     "output_type": "stream",
     "text": [
      "INFO:fbprophet:Disabling weekly seasonality. Run prophet with weekly_seasonality=True to override this.\n",
      "INFO:fbprophet:Disabling daily seasonality. Run prophet with daily_seasonality=True to override this.\n"
     ]
    },
    {
     "data": {
      "text/html": [
       "<div>\n",
       "<style scoped>\n",
       "    .dataframe tbody tr th:only-of-type {\n",
       "        vertical-align: middle;\n",
       "    }\n",
       "\n",
       "    .dataframe tbody tr th {\n",
       "        vertical-align: top;\n",
       "    }\n",
       "\n",
       "    .dataframe thead th {\n",
       "        text-align: right;\n",
       "    }\n",
       "</style>\n",
       "<table border=\"1\" class=\"dataframe\">\n",
       "  <thead>\n",
       "    <tr style=\"text-align: right;\">\n",
       "      <th></th>\n",
       "      <th>ds</th>\n",
       "      <th>trend</th>\n",
       "      <th>yhat_lower</th>\n",
       "      <th>yhat_upper</th>\n",
       "      <th>yhat</th>\n",
       "    </tr>\n",
       "  </thead>\n",
       "  <tbody>\n",
       "    <tr>\n",
       "      <th>119</th>\n",
       "      <td>2020-12-01</td>\n",
       "      <td>104.218382</td>\n",
       "      <td>104.057208</td>\n",
       "      <td>105.750824</td>\n",
       "      <td>104.884223</td>\n",
       "    </tr>\n",
       "    <tr>\n",
       "      <th>120</th>\n",
       "      <td>2020-12-31</td>\n",
       "      <td>104.469028</td>\n",
       "      <td>103.712830</td>\n",
       "      <td>105.415990</td>\n",
       "      <td>104.573080</td>\n",
       "    </tr>\n",
       "    <tr>\n",
       "      <th>121</th>\n",
       "      <td>2021-01-31</td>\n",
       "      <td>104.728028</td>\n",
       "      <td>103.695600</td>\n",
       "      <td>105.456116</td>\n",
       "      <td>104.597750</td>\n",
       "    </tr>\n",
       "    <tr>\n",
       "      <th>122</th>\n",
       "      <td>2021-02-28</td>\n",
       "      <td>104.961964</td>\n",
       "      <td>104.016442</td>\n",
       "      <td>105.709632</td>\n",
       "      <td>104.862056</td>\n",
       "    </tr>\n",
       "    <tr>\n",
       "      <th>123</th>\n",
       "      <td>2021-03-31</td>\n",
       "      <td>105.220965</td>\n",
       "      <td>104.159828</td>\n",
       "      <td>105.872397</td>\n",
       "      <td>105.017133</td>\n",
       "    </tr>\n",
       "    <tr>\n",
       "      <th>124</th>\n",
       "      <td>2021-04-30</td>\n",
       "      <td>105.471611</td>\n",
       "      <td>104.372921</td>\n",
       "      <td>106.034786</td>\n",
       "      <td>105.231440</td>\n",
       "    </tr>\n",
       "  </tbody>\n",
       "</table>\n",
       "</div>"
      ],
      "text/plain": [
       "            ds       trend  yhat_lower  yhat_upper        yhat\n",
       "119 2020-12-01  104.218382  104.057208  105.750824  104.884223\n",
       "120 2020-12-31  104.469028  103.712830  105.415990  104.573080\n",
       "121 2021-01-31  104.728028  103.695600  105.456116  104.597750\n",
       "122 2021-02-28  104.961964  104.016442  105.709632  104.862056\n",
       "123 2021-03-31  105.220965  104.159828  105.872397  105.017133\n",
       "124 2021-04-30  105.471611  104.372921  106.034786  105.231440"
      ]
     },
     "execution_count": 156,
     "metadata": {},
     "output_type": "execute_result"
    }
   ],
   "source": [
    "from fbprophet import Prophet\n",
    "pr = Prophet()\n",
    "pr.fit(data_p)\n",
    "fu = pr.make_future_dataframe(periods=5,freq=\"M\")\n",
    "fu_data = pr.predict(fu)\n",
    "fu_data.loc[:,['ds','trend',\"yhat_lower\",\"yhat_upper\",\"yhat\"]].tail(6)"
   ]
  },
  {
   "cell_type": "code",
   "execution_count": 157,
   "id": "8369d5d1",
   "metadata": {},
   "outputs": [
    {
     "data": {
      "image/png": "[encoded data removed]",
      "text/plain": [
       "<Figure size 720x432 with 1 Axes>"
      ]
     },
     "execution_count": 157,
     "metadata": {},
     "output_type": "execute_result"
    },
    {
     "data": {
      "image/png": "[encoded data removed]",
      "text/plain": [
       "<Figure size 720x432 with 1 Axes>"
      ]
     },
     "metadata": {},
     "output_type": "display_data"
    }
   ],
   "source": [
    "pr.plot(fu_data.loc[:,['ds','trend',\"yhat_lower\",\"yhat_upper\",\"yhat\"]])"
   ]
  },
  {
   "cell_type": "code",
   "execution_count": 158,
   "id": "c5f8c40c",
   "metadata": {},
   "outputs": [],
   "source": [
    "fu_data_r = fu_data.loc[:,['ds',\"yhat_lower\",\"yhat_upper\",\"yhat\"]].tail(6)"
   ]
  },
  {
   "cell_type": "code",
   "execution_count": 159,
   "id": "fa58f1de",
   "metadata": {},
   "outputs": [
    {
     "data": {
      "text/plain": [
       "ds\n",
       "2020-12-01    104.884223\n",
       "2020-12-31    104.573080\n",
       "2021-01-31    104.597750\n",
       "2021-02-28    104.862056\n",
       "2021-03-31    105.017133\n",
       "2021-04-30    105.231440\n",
       "Name: yhat, dtype: float64"
      ]
     },
     "execution_count": 159,
     "metadata": {},
     "output_type": "execute_result"
    }
   ],
   "source": [
    "fu_data_r.index = fu_data_r[\"ds\"]\n",
    "fu_data_r.drop(columns=\"ds\", axis=1, inplace=True)\n",
    "fu_data_r[\"yhat\"]"
   ]
  },
  {
   "cell_type": "code",
   "execution_count": 160,
   "id": "341e74ed",
   "metadata": {},
   "outputs": [],
   "source": [
    "from statsmodels.tsa.stattools import adfuller\n",
    "def adf_test(df) :\n",
    "    result = adfuller(df.values)\n",
    "    print(\"ADF Statistics: %f\" %result[0])\n",
    "    print(\"p-value: %f\" % result[1])\n",
    "    print(\"Critical values:\")\n",
    "    for key, value in result[4].items():\n",
    "        print(\"\\t%s: %.3f\" % (key, value))\n",
    "    return result"
   ]
  },
  {
   "cell_type": "code",
   "execution_count": 161,
   "id": "ce752a0f",
   "metadata": {},
   "outputs": [
    {
     "name": "stdout",
     "output_type": "stream",
     "text": [
      "ADF Test: House Price\n",
      "ADF Statistics: -0.364525\n",
      "p-value: 0.915856\n",
      "Critical values:\n",
      "\t1%: -7.355\n",
      "\t5%: -4.474\n",
      "\t10%: -3.127\n"
     ]
    }
   ],
   "source": [
    "print(\"ADF Test: House Price\")\n",
    "result = adf_test(fu_data_r[\"yhat\"])"
   ]
  },
  {
   "cell_type": "code",
   "execution_count": 162,
   "id": "7f28bd25",
   "metadata": {},
   "outputs": [
    {
     "data": {
      "text/html": [
       "<div>\n",
       "<style scoped>\n",
       "    .dataframe tbody tr th:only-of-type {\n",
       "        vertical-align: middle;\n",
       "    }\n",
       "\n",
       "    .dataframe tbody tr th {\n",
       "        vertical-align: top;\n",
       "    }\n",
       "\n",
       "    .dataframe thead th {\n",
       "        text-align: right;\n",
       "    }\n",
       "</style>\n",
       "<table border=\"1\" class=\"dataframe\">\n",
       "  <thead>\n",
       "    <tr style=\"text-align: right;\">\n",
       "      <th></th>\n",
       "      <th>ds</th>\n",
       "      <th>y</th>\n",
       "    </tr>\n",
       "  </thead>\n",
       "  <tbody>\n",
       "    <tr>\n",
       "      <th>0</th>\n",
       "      <td>2011-01-01</td>\n",
       "      <td>82.427</td>\n",
       "    </tr>\n",
       "    <tr>\n",
       "      <th>1</th>\n",
       "      <td>2011-02-01</td>\n",
       "      <td>83.091</td>\n",
       "    </tr>\n",
       "    <tr>\n",
       "      <th>2</th>\n",
       "      <td>2011-03-01</td>\n",
       "      <td>83.906</td>\n",
       "    </tr>\n",
       "    <tr>\n",
       "      <th>3</th>\n",
       "      <td>2011-04-01</td>\n",
       "      <td>84.602</td>\n",
       "    </tr>\n",
       "    <tr>\n",
       "      <th>4</th>\n",
       "      <td>2011-05-01</td>\n",
       "      <td>85.194</td>\n",
       "    </tr>\n",
       "    <tr>\n",
       "      <th>...</th>\n",
       "      <td>...</td>\n",
       "      <td>...</td>\n",
       "    </tr>\n",
       "    <tr>\n",
       "      <th>115</th>\n",
       "      <td>2020-08-01</td>\n",
       "      <td>103.505</td>\n",
       "    </tr>\n",
       "    <tr>\n",
       "      <th>116</th>\n",
       "      <td>2020-09-01</td>\n",
       "      <td>104.333</td>\n",
       "    </tr>\n",
       "    <tr>\n",
       "      <th>117</th>\n",
       "      <td>2020-10-01</td>\n",
       "      <td>105.035</td>\n",
       "    </tr>\n",
       "    <tr>\n",
       "      <th>118</th>\n",
       "      <td>2020-11-01</td>\n",
       "      <td>106.549</td>\n",
       "    </tr>\n",
       "    <tr>\n",
       "      <th>119</th>\n",
       "      <td>2020-12-01</td>\n",
       "      <td>108.010</td>\n",
       "    </tr>\n",
       "  </tbody>\n",
       "</table>\n",
       "<p>120 rows × 2 columns</p>\n",
       "</div>"
      ],
      "text/plain": [
       "            ds        y\n",
       "0   2011-01-01   82.427\n",
       "1   2011-02-01   83.091\n",
       "2   2011-03-01   83.906\n",
       "3   2011-04-01   84.602\n",
       "4   2011-05-01   85.194\n",
       "..         ...      ...\n",
       "115 2020-08-01  103.505\n",
       "116 2020-09-01  104.333\n",
       "117 2020-10-01  105.035\n",
       "118 2020-11-01  106.549\n",
       "119 2020-12-01  108.010\n",
       "\n",
       "[120 rows x 2 columns]"
      ]
     },
     "execution_count": 162,
     "metadata": {},
     "output_type": "execute_result"
    }
   ],
   "source": [
    "data_p"
   ]
  },
  {
   "cell_type": "code",
   "execution_count": 163,
   "id": "fa3c84cc",
   "metadata": {},
   "outputs": [],
   "source": [
    "data_p[\"ratio_y\"] = 100*data_p[\"y\"].pct_change()\n",
    "data_p.dropna(inplace=True)\n",
    "data_p.head()\n",
    "data_p[\"y\"] = data_p[\"ratio_y\"]\n"
   ]
  },
  {
   "cell_type": "code",
   "execution_count": 164,
   "id": "babb74fa",
   "metadata": {},
   "outputs": [
    {
     "data": {
      "text/html": [
       "<div>\n",
       "<style scoped>\n",
       "    .dataframe tbody tr th:only-of-type {\n",
       "        vertical-align: middle;\n",
       "    }\n",
       "\n",
       "    .dataframe tbody tr th {\n",
       "        vertical-align: top;\n",
       "    }\n",
       "\n",
       "    .dataframe thead th {\n",
       "        text-align: right;\n",
       "    }\n",
       "</style>\n",
       "<table border=\"1\" class=\"dataframe\">\n",
       "  <thead>\n",
       "    <tr style=\"text-align: right;\">\n",
       "      <th></th>\n",
       "      <th>ds</th>\n",
       "      <th>y</th>\n",
       "    </tr>\n",
       "  </thead>\n",
       "  <tbody>\n",
       "    <tr>\n",
       "      <th>1</th>\n",
       "      <td>2011-02-01</td>\n",
       "      <td>0.805561</td>\n",
       "    </tr>\n",
       "    <tr>\n",
       "      <th>2</th>\n",
       "      <td>2011-03-01</td>\n",
       "      <td>0.980852</td>\n",
       "    </tr>\n",
       "    <tr>\n",
       "      <th>3</th>\n",
       "      <td>2011-04-01</td>\n",
       "      <td>0.829500</td>\n",
       "    </tr>\n",
       "    <tr>\n",
       "      <th>4</th>\n",
       "      <td>2011-05-01</td>\n",
       "      <td>0.699747</td>\n",
       "    </tr>\n",
       "    <tr>\n",
       "      <th>5</th>\n",
       "      <td>2011-06-01</td>\n",
       "      <td>0.495340</td>\n",
       "    </tr>\n",
       "    <tr>\n",
       "      <th>...</th>\n",
       "      <td>...</td>\n",
       "      <td>...</td>\n",
       "    </tr>\n",
       "    <tr>\n",
       "      <th>115</th>\n",
       "      <td>2020-08-01</td>\n",
       "      <td>0.781874</td>\n",
       "    </tr>\n",
       "    <tr>\n",
       "      <th>116</th>\n",
       "      <td>2020-09-01</td>\n",
       "      <td>0.799961</td>\n",
       "    </tr>\n",
       "    <tr>\n",
       "      <th>117</th>\n",
       "      <td>2020-10-01</td>\n",
       "      <td>0.672846</td>\n",
       "    </tr>\n",
       "    <tr>\n",
       "      <th>118</th>\n",
       "      <td>2020-11-01</td>\n",
       "      <td>1.441424</td>\n",
       "    </tr>\n",
       "    <tr>\n",
       "      <th>119</th>\n",
       "      <td>2020-12-01</td>\n",
       "      <td>1.371200</td>\n",
       "    </tr>\n",
       "  </tbody>\n",
       "</table>\n",
       "<p>119 rows × 2 columns</p>\n",
       "</div>"
      ],
      "text/plain": [
       "            ds         y\n",
       "1   2011-02-01  0.805561\n",
       "2   2011-03-01  0.980852\n",
       "3   2011-04-01  0.829500\n",
       "4   2011-05-01  0.699747\n",
       "5   2011-06-01  0.495340\n",
       "..         ...       ...\n",
       "115 2020-08-01  0.781874\n",
       "116 2020-09-01  0.799961\n",
       "117 2020-10-01  0.672846\n",
       "118 2020-11-01  1.441424\n",
       "119 2020-12-01  1.371200\n",
       "\n",
       "[119 rows x 2 columns]"
      ]
     },
     "execution_count": 164,
     "metadata": {},
     "output_type": "execute_result"
    }
   ],
   "source": [
    "data_p.drop(columns=\"ratio_y\", axis=1 , inplace=True)\n",
    "data_p"
   ]
  },
  {
   "cell_type": "code",
   "execution_count": 165,
   "id": "e400b80e",
   "metadata": {},
   "outputs": [
    {
     "name": "stderr",
     "output_type": "stream",
     "text": [
      "INFO:fbprophet:Disabling weekly seasonality. Run prophet with weekly_seasonality=True to override this.\n",
      "INFO:fbprophet:Disabling daily seasonality. Run prophet with daily_seasonality=True to override this.\n"
     ]
    },
    {
     "data": {
      "text/html": [
       "<div>\n",
       "<style scoped>\n",
       "    .dataframe tbody tr th:only-of-type {\n",
       "        vertical-align: middle;\n",
       "    }\n",
       "\n",
       "    .dataframe tbody tr th {\n",
       "        vertical-align: top;\n",
       "    }\n",
       "\n",
       "    .dataframe thead th {\n",
       "        text-align: right;\n",
       "    }\n",
       "</style>\n",
       "<table border=\"1\" class=\"dataframe\">\n",
       "  <thead>\n",
       "    <tr style=\"text-align: right;\">\n",
       "      <th></th>\n",
       "      <th>ds</th>\n",
       "      <th>trend</th>\n",
       "      <th>yhat_lower</th>\n",
       "      <th>yhat_upper</th>\n",
       "      <th>yhat</th>\n",
       "    </tr>\n",
       "  </thead>\n",
       "  <tbody>\n",
       "    <tr>\n",
       "      <th>118</th>\n",
       "      <td>2020-12-01</td>\n",
       "      <td>0.301267</td>\n",
       "      <td>-0.010793</td>\n",
       "      <td>0.705324</td>\n",
       "      <td>0.333220</td>\n",
       "    </tr>\n",
       "    <tr>\n",
       "      <th>119</th>\n",
       "      <td>2020-12-31</td>\n",
       "      <td>0.302490</td>\n",
       "      <td>-0.161058</td>\n",
       "      <td>0.539636</td>\n",
       "      <td>0.188745</td>\n",
       "    </tr>\n",
       "    <tr>\n",
       "      <th>120</th>\n",
       "      <td>2021-01-31</td>\n",
       "      <td>0.303754</td>\n",
       "      <td>-0.083299</td>\n",
       "      <td>0.634667</td>\n",
       "      <td>0.281111</td>\n",
       "    </tr>\n",
       "    <tr>\n",
       "      <th>121</th>\n",
       "      <td>2021-02-28</td>\n",
       "      <td>0.304895</td>\n",
       "      <td>-0.016174</td>\n",
       "      <td>0.669350</td>\n",
       "      <td>0.330627</td>\n",
       "    </tr>\n",
       "    <tr>\n",
       "      <th>122</th>\n",
       "      <td>2021-03-31</td>\n",
       "      <td>0.306159</td>\n",
       "      <td>-0.067465</td>\n",
       "      <td>0.609168</td>\n",
       "      <td>0.277996</td>\n",
       "    </tr>\n",
       "    <tr>\n",
       "      <th>123</th>\n",
       "      <td>2021-04-30</td>\n",
       "      <td>0.307382</td>\n",
       "      <td>-0.127513</td>\n",
       "      <td>0.592001</td>\n",
       "      <td>0.224325</td>\n",
       "    </tr>\n",
       "  </tbody>\n",
       "</table>\n",
       "</div>"
      ],
      "text/plain": [
       "            ds     trend  yhat_lower  yhat_upper      yhat\n",
       "118 2020-12-01  0.301267   -0.010793    0.705324  0.333220\n",
       "119 2020-12-31  0.302490   -0.161058    0.539636  0.188745\n",
       "120 2021-01-31  0.303754   -0.083299    0.634667  0.281111\n",
       "121 2021-02-28  0.304895   -0.016174    0.669350  0.330627\n",
       "122 2021-03-31  0.306159   -0.067465    0.609168  0.277996\n",
       "123 2021-04-30  0.307382   -0.127513    0.592001  0.224325"
      ]
     },
     "execution_count": 165,
     "metadata": {},
     "output_type": "execute_result"
    }
   ],
   "source": [
    "pr = Prophet()\n",
    "pr.fit(data_p)\n",
    "fu = pr.make_future_dataframe(periods=5,freq=\"M\")\n",
    "fu_data = pr.predict(fu)\n",
    "fu_data.loc[:,['ds','trend',\"yhat_lower\",\"yhat_upper\",\"yhat\"]].tail(6)"
   ]
  },
  {
   "cell_type": "code",
   "execution_count": 166,
   "id": "09afb0a7",
   "metadata": {},
   "outputs": [
    {
     "data": {
      "image/png": "[encoded data removed]",
      "text/plain": [
       "<Figure size 720x432 with 1 Axes>"
      ]
     },
     "execution_count": 166,
     "metadata": {},
     "output_type": "execute_result"
    },
    {
     "data": {
      "image/png": "[encoded data removed]",
      "text/plain": [
       "<Figure size 720x432 with 1 Axes>"
      ]
     },
     "metadata": {},
     "output_type": "display_data"
    }
   ],
   "source": [
    "pr.plot(fu_data.loc[:,['ds','trend',\"yhat_lower\",\"yhat_upper\",\"yhat\"]])"
   ]
  },
  {
   "cell_type": "code",
   "execution_count": 167,
   "id": "d7e9ca25",
   "metadata": {},
   "outputs": [],
   "source": [
    "fu_data_r = fu_data.loc[:,['ds',\"yhat_lower\",\"yhat_upper\",\"yhat\"]].tail(6)"
   ]
  },
  {
   "cell_type": "code",
   "execution_count": 168,
   "id": "bcc318e4",
   "metadata": {},
   "outputs": [
    {
     "data": {
      "text/html": [
       "<div>\n",
       "<style scoped>\n",
       "    .dataframe tbody tr th:only-of-type {\n",
       "        vertical-align: middle;\n",
       "    }\n",
       "\n",
       "    .dataframe tbody tr th {\n",
       "        vertical-align: top;\n",
       "    }\n",
       "\n",
       "    .dataframe thead th {\n",
       "        text-align: right;\n",
       "    }\n",
       "</style>\n",
       "<table border=\"1\" class=\"dataframe\">\n",
       "  <thead>\n",
       "    <tr style=\"text-align: right;\">\n",
       "      <th></th>\n",
       "      <th>yhat_lower</th>\n",
       "      <th>yhat_upper</th>\n",
       "      <th>yhat</th>\n",
       "    </tr>\n",
       "    <tr>\n",
       "      <th>ds</th>\n",
       "      <th></th>\n",
       "      <th></th>\n",
       "      <th></th>\n",
       "    </tr>\n",
       "  </thead>\n",
       "  <tbody>\n",
       "    <tr>\n",
       "      <th>2020-12-01</th>\n",
       "      <td>-0.010793</td>\n",
       "      <td>0.705324</td>\n",
       "      <td>0.333220</td>\n",
       "    </tr>\n",
       "    <tr>\n",
       "      <th>2020-12-31</th>\n",
       "      <td>-0.161058</td>\n",
       "      <td>0.539636</td>\n",
       "      <td>0.188745</td>\n",
       "    </tr>\n",
       "    <tr>\n",
       "      <th>2021-01-31</th>\n",
       "      <td>-0.083299</td>\n",
       "      <td>0.634667</td>\n",
       "      <td>0.281111</td>\n",
       "    </tr>\n",
       "    <tr>\n",
       "      <th>2021-02-28</th>\n",
       "      <td>-0.016174</td>\n",
       "      <td>0.669350</td>\n",
       "      <td>0.330627</td>\n",
       "    </tr>\n",
       "    <tr>\n",
       "      <th>2021-03-31</th>\n",
       "      <td>-0.067465</td>\n",
       "      <td>0.609168</td>\n",
       "      <td>0.277996</td>\n",
       "    </tr>\n",
       "    <tr>\n",
       "      <th>2021-04-30</th>\n",
       "      <td>-0.127513</td>\n",
       "      <td>0.592001</td>\n",
       "      <td>0.224325</td>\n",
       "    </tr>\n",
       "  </tbody>\n",
       "</table>\n",
       "</div>"
      ],
      "text/plain": [
       "            yhat_lower  yhat_upper      yhat\n",
       "ds                                          \n",
       "2020-12-01   -0.010793    0.705324  0.333220\n",
       "2020-12-31   -0.161058    0.539636  0.188745\n",
       "2021-01-31   -0.083299    0.634667  0.281111\n",
       "2021-02-28   -0.016174    0.669350  0.330627\n",
       "2021-03-31   -0.067465    0.609168  0.277996\n",
       "2021-04-30   -0.127513    0.592001  0.224325"
      ]
     },
     "execution_count": 168,
     "metadata": {},
     "output_type": "execute_result"
    }
   ],
   "source": [
    "fu_data_r.index = fu_data_r[\"ds\"]\n",
    "fu_data_r.drop(columns=\"ds\", axis=1, inplace=True)\n",
    "print(\"ADF Test: House Price Ratio\")\n",
    "result = adf_test(fu_data_r[\"yhat\"])"
   ]
  },
  {
   "cell_type": "code",
   "execution_count": 169,
   "id": "b0ae4781",
   "metadata": {},
   "outputs": [
    {
     "name": "stdout",
     "output_type": "stream",
     "text": [
      "ADF Test: House Price Ratio\n",
      "ADF Statistics: -3.980444\n",
      "p-value: 0.001516\n",
      "Critical values:\n",
      "\t1%: -7.355\n",
      "\t5%: -4.474\n",
      "\t10%: -3.127\n"
     ]
    }
   ],
   "source": []
  },
  {
   "cell_type": "code",
   "execution_count": null,
   "id": "4478e4f4",
   "metadata": {},
   "outputs": [],
   "source": []
  }
 ],
 "metadata": {
  "kernelspec": {
   "display_name": "Python 3",
   "language": "python",
   "name": "python3"
  },
  "language_info": {
   "codemirror_mode": {
    "name": "ipython",
    "version": 3
   },
   "file_extension": ".py",
   "mimetype": "text/x-python",
   "name": "python",
   "nbconvert_exporter": "python",
   "pygments_lexer": "ipython3",
   "version": "3.8.10"
  }
 },
 "nbformat": 4,
 "nbformat_minor": 5
}
