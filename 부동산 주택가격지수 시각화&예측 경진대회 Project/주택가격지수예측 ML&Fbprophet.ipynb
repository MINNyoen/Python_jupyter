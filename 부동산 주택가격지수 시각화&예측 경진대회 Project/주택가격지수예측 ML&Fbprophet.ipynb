{
 "cells": [
  {
   "cell_type": "code",
   "execution_count": 2,
   "id": "774afbf0",
   "metadata": {},
   "outputs": [],
   "source": [
    "import pandas as pd\n",
    "import numpy as np\n",
    "import matplotlib.pyplot as plt\n",
    "import warnings"
   ]
  },
  {
   "cell_type": "code",
   "execution_count": 3,
   "id": "f53be7be",
   "metadata": {},
   "outputs": [
    {
     "data": {
      "text/html": [
       "<div>\n",
       "<style scoped>\n",
       "    .dataframe tbody tr th:only-of-type {\n",
       "        vertical-align: middle;\n",
       "    }\n",
       "\n",
       "    .dataframe tbody tr th {\n",
       "        vertical-align: top;\n",
       "    }\n",
       "\n",
       "    .dataframe thead th {\n",
       "        text-align: right;\n",
       "    }\n",
       "</style>\n",
       "<table border=\"1\" class=\"dataframe\">\n",
       "  <thead>\n",
       "    <tr style=\"text-align: right;\">\n",
       "      <th></th>\n",
       "      <th>일자</th>\n",
       "      <th>총지수</th>\n",
       "      <th>상승</th>\n",
       "      <th>하락</th>\n",
       "      <th>상승하락_합</th>\n",
       "    </tr>\n",
       "  </thead>\n",
       "  <tbody>\n",
       "    <tr>\n",
       "      <th>0</th>\n",
       "      <td>201101</td>\n",
       "      <td>82.427</td>\n",
       "      <td>171</td>\n",
       "      <td>19</td>\n",
       "      <td>152</td>\n",
       "    </tr>\n",
       "    <tr>\n",
       "      <th>1</th>\n",
       "      <td>201102</td>\n",
       "      <td>83.091</td>\n",
       "      <td>167</td>\n",
       "      <td>9</td>\n",
       "      <td>158</td>\n",
       "    </tr>\n",
       "    <tr>\n",
       "      <th>2</th>\n",
       "      <td>201103</td>\n",
       "      <td>83.906</td>\n",
       "      <td>94</td>\n",
       "      <td>19</td>\n",
       "      <td>75</td>\n",
       "    </tr>\n",
       "    <tr>\n",
       "      <th>3</th>\n",
       "      <td>201104</td>\n",
       "      <td>84.602</td>\n",
       "      <td>66</td>\n",
       "      <td>27</td>\n",
       "      <td>39</td>\n",
       "    </tr>\n",
       "    <tr>\n",
       "      <th>4</th>\n",
       "      <td>201105</td>\n",
       "      <td>85.194</td>\n",
       "      <td>96</td>\n",
       "      <td>48</td>\n",
       "      <td>48</td>\n",
       "    </tr>\n",
       "    <tr>\n",
       "      <th>...</th>\n",
       "      <td>...</td>\n",
       "      <td>...</td>\n",
       "      <td>...</td>\n",
       "      <td>...</td>\n",
       "      <td>...</td>\n",
       "    </tr>\n",
       "    <tr>\n",
       "      <th>115</th>\n",
       "      <td>202008</td>\n",
       "      <td>103.505</td>\n",
       "      <td>179</td>\n",
       "      <td>7</td>\n",
       "      <td>172</td>\n",
       "    </tr>\n",
       "    <tr>\n",
       "      <th>116</th>\n",
       "      <td>202009</td>\n",
       "      <td>104.333</td>\n",
       "      <td>147</td>\n",
       "      <td>8</td>\n",
       "      <td>139</td>\n",
       "    </tr>\n",
       "    <tr>\n",
       "      <th>117</th>\n",
       "      <td>202010</td>\n",
       "      <td>105.035</td>\n",
       "      <td>118</td>\n",
       "      <td>15</td>\n",
       "      <td>103</td>\n",
       "    </tr>\n",
       "    <tr>\n",
       "      <th>118</th>\n",
       "      <td>202011</td>\n",
       "      <td>106.549</td>\n",
       "      <td>140</td>\n",
       "      <td>3</td>\n",
       "      <td>137</td>\n",
       "    </tr>\n",
       "    <tr>\n",
       "      <th>119</th>\n",
       "      <td>202012</td>\n",
       "      <td>108.010</td>\n",
       "      <td>177</td>\n",
       "      <td>14</td>\n",
       "      <td>163</td>\n",
       "    </tr>\n",
       "  </tbody>\n",
       "</table>\n",
       "<p>120 rows × 5 columns</p>\n",
       "</div>"
      ],
      "text/plain": [
       "         일자      총지수   상승  하락  상승하락_합\n",
       "0    201101   82.427  171  19     152\n",
       "1    201102   83.091  167   9     158\n",
       "2    201103   83.906   94  19      75\n",
       "3    201104   84.602   66  27      39\n",
       "4    201105   85.194   96  48      48\n",
       "..      ...      ...  ...  ..     ...\n",
       "115  202008  103.505  179   7     172\n",
       "116  202009  104.333  147   8     139\n",
       "117  202010  105.035  118  15     103\n",
       "118  202011  106.549  140   3     137\n",
       "119  202012  108.010  177  14     163\n",
       "\n",
       "[120 rows x 5 columns]"
      ]
     },
     "execution_count": 3,
     "metadata": {},
     "output_type": "execute_result"
    }
   ],
   "source": [
    "data = pd.read_csv('../../Documents/Data/Project/ML_data.csv',\n",
    "                   engine=\"python\", encoding='utf-8')\n",
    "data[\"상승하락_합\"] = data[\"상승\"] - data[\"하락\"]\n",
    "data"
   ]
  },
  {
   "cell_type": "code",
   "execution_count": 4,
   "id": "e005c7e9",
   "metadata": {},
   "outputs": [
    {
     "data": {
      "text/html": [
       "<div>\n",
       "<style scoped>\n",
       "    .dataframe tbody tr th:only-of-type {\n",
       "        vertical-align: middle;\n",
       "    }\n",
       "\n",
       "    .dataframe tbody tr th {\n",
       "        vertical-align: top;\n",
       "    }\n",
       "\n",
       "    .dataframe thead th {\n",
       "        text-align: right;\n",
       "    }\n",
       "</style>\n",
       "<table border=\"1\" class=\"dataframe\">\n",
       "  <thead>\n",
       "    <tr style=\"text-align: right;\">\n",
       "      <th></th>\n",
       "      <th>상승</th>\n",
       "      <th>하락</th>\n",
       "    </tr>\n",
       "  </thead>\n",
       "  <tbody>\n",
       "    <tr>\n",
       "      <th>0</th>\n",
       "      <td>171</td>\n",
       "      <td>19</td>\n",
       "    </tr>\n",
       "    <tr>\n",
       "      <th>1</th>\n",
       "      <td>167</td>\n",
       "      <td>9</td>\n",
       "    </tr>\n",
       "    <tr>\n",
       "      <th>2</th>\n",
       "      <td>94</td>\n",
       "      <td>19</td>\n",
       "    </tr>\n",
       "    <tr>\n",
       "      <th>3</th>\n",
       "      <td>66</td>\n",
       "      <td>27</td>\n",
       "    </tr>\n",
       "    <tr>\n",
       "      <th>4</th>\n",
       "      <td>96</td>\n",
       "      <td>48</td>\n",
       "    </tr>\n",
       "    <tr>\n",
       "      <th>...</th>\n",
       "      <td>...</td>\n",
       "      <td>...</td>\n",
       "    </tr>\n",
       "    <tr>\n",
       "      <th>115</th>\n",
       "      <td>179</td>\n",
       "      <td>7</td>\n",
       "    </tr>\n",
       "    <tr>\n",
       "      <th>116</th>\n",
       "      <td>147</td>\n",
       "      <td>8</td>\n",
       "    </tr>\n",
       "    <tr>\n",
       "      <th>117</th>\n",
       "      <td>118</td>\n",
       "      <td>15</td>\n",
       "    </tr>\n",
       "    <tr>\n",
       "      <th>118</th>\n",
       "      <td>140</td>\n",
       "      <td>3</td>\n",
       "    </tr>\n",
       "    <tr>\n",
       "      <th>119</th>\n",
       "      <td>177</td>\n",
       "      <td>14</td>\n",
       "    </tr>\n",
       "  </tbody>\n",
       "</table>\n",
       "<p>120 rows × 2 columns</p>\n",
       "</div>"
      ],
      "text/plain": [
       "      상승  하락\n",
       "0    171  19\n",
       "1    167   9\n",
       "2     94  19\n",
       "3     66  27\n",
       "4     96  48\n",
       "..   ...  ..\n",
       "115  179   7\n",
       "116  147   8\n",
       "117  118  15\n",
       "118  140   3\n",
       "119  177  14\n",
       "\n",
       "[120 rows x 2 columns]"
      ]
     },
     "execution_count": 4,
     "metadata": {},
     "output_type": "execute_result"
    }
   ],
   "source": [
    "data_y = data.loc[:,[\"총지수\"]]\n",
    "data_y\n",
    "data_x2 = data.loc[:,[\"상승\",\"하락\"]]\n",
    "data_x2"
   ]
  },
  {
   "cell_type": "code",
   "execution_count": 5,
   "id": "0c75d2b0",
   "metadata": {},
   "outputs": [],
   "source": [
    "data_x1 = data.loc[:,[\"상승하락_합\"]]"
   ]
  },
  {
   "cell_type": "code",
   "execution_count": 6,
   "id": "490aaad5",
   "metadata": {},
   "outputs": [
    {
     "data": {
      "text/html": [
       "<div>\n",
       "<style scoped>\n",
       "    .dataframe tbody tr th:only-of-type {\n",
       "        vertical-align: middle;\n",
       "    }\n",
       "\n",
       "    .dataframe tbody tr th {\n",
       "        vertical-align: top;\n",
       "    }\n",
       "\n",
       "    .dataframe thead th {\n",
       "        text-align: right;\n",
       "    }\n",
       "</style>\n",
       "<table border=\"1\" class=\"dataframe\">\n",
       "  <thead>\n",
       "    <tr style=\"text-align: right;\">\n",
       "      <th></th>\n",
       "      <th>상승하락_합</th>\n",
       "    </tr>\n",
       "  </thead>\n",
       "  <tbody>\n",
       "    <tr>\n",
       "      <th>0</th>\n",
       "      <td>5.030438</td>\n",
       "    </tr>\n",
       "    <tr>\n",
       "      <th>1</th>\n",
       "      <td>5.068904</td>\n",
       "    </tr>\n",
       "    <tr>\n",
       "      <th>2</th>\n",
       "      <td>4.330733</td>\n",
       "    </tr>\n",
       "    <tr>\n",
       "      <th>3</th>\n",
       "      <td>3.688879</td>\n",
       "    </tr>\n",
       "    <tr>\n",
       "      <th>4</th>\n",
       "      <td>3.891820</td>\n",
       "    </tr>\n",
       "    <tr>\n",
       "      <th>...</th>\n",
       "      <td>...</td>\n",
       "    </tr>\n",
       "    <tr>\n",
       "      <th>115</th>\n",
       "      <td>5.153292</td>\n",
       "    </tr>\n",
       "    <tr>\n",
       "      <th>116</th>\n",
       "      <td>4.941642</td>\n",
       "    </tr>\n",
       "    <tr>\n",
       "      <th>117</th>\n",
       "      <td>4.644391</td>\n",
       "    </tr>\n",
       "    <tr>\n",
       "      <th>118</th>\n",
       "      <td>4.927254</td>\n",
       "    </tr>\n",
       "    <tr>\n",
       "      <th>119</th>\n",
       "      <td>5.099866</td>\n",
       "    </tr>\n",
       "  </tbody>\n",
       "</table>\n",
       "<p>120 rows × 1 columns</p>\n",
       "</div>"
      ],
      "text/plain": [
       "       상승하락_합\n",
       "0    5.030438\n",
       "1    5.068904\n",
       "2    4.330733\n",
       "3    3.688879\n",
       "4    3.891820\n",
       "..        ...\n",
       "115  5.153292\n",
       "116  4.941642\n",
       "117  4.644391\n",
       "118  4.927254\n",
       "119  5.099866\n",
       "\n",
       "[120 rows x 1 columns]"
      ]
     },
     "execution_count": 6,
     "metadata": {},
     "output_type": "execute_result"
    }
   ],
   "source": [
    "for i in range(len(data_x1.values)) :\n",
    "    if data_x1.values[i] < 0 :\n",
    "        data_x1.values[i] = 0\n",
    "data_x3 = np.log1p(data_x1, )\n",
    "data_x3"
   ]
  },
  {
   "cell_type": "code",
   "execution_count": 7,
   "id": "feb66989",
   "metadata": {},
   "outputs": [
    {
     "data": {
      "image/png": "[encoded data removed]",
      "text/plain": [
       "<Figure size 432x288 with 1 Axes>"
      ]
     },
     "metadata": {
      "needs_background": "light"
     },
     "output_type": "display_data"
    }
   ],
   "source": [
    "plt.plot(data_y,data_x3)\n",
    "plt.show()"
   ]
  },
  {
   "cell_type": "code",
   "execution_count": 8,
   "id": "5977ec6d",
   "metadata": {},
   "outputs": [
    {
     "name": "stdout",
     "output_type": "stream",
     "text": [
      "[[94.27707249]\n",
      " [-0.33698591]]\n"
     ]
    }
   ],
   "source": [
    "x0 = np.ones((data_x3.shape[0],1))\n",
    "X = np.hstack((x0,data_x3))\n",
    "w1 = np.linalg.inv(X.T.dot(X)).dot(X.T).dot(data_y)\n",
    "print(w1)"
   ]
  },
  {
   "cell_type": "code",
   "execution_count": 9,
   "id": "9af31c53",
   "metadata": {},
   "outputs": [
    {
     "data": {
      "image/png": "[encoded data removed]",
      "text/plain": [
       "<Figure size 432x288 with 1 Axes>"
      ]
     },
     "metadata": {
      "needs_background": "light"
     },
     "output_type": "display_data"
    }
   ],
   "source": [
    "plt.scatter(data_x3, data_y)\n",
    "plt.plot([0,10], [w1[0], 10*w1[1]+w1[0]], 'r')\n",
    "plt.xlabel('x')\n",
    "plt.ylabel('y')\n",
    "plt.show()"
   ]
  },
  {
   "cell_type": "code",
   "execution_count": 10,
   "id": "002975ee",
   "metadata": {
    "scrolled": true
   },
   "outputs": [],
   "source": [
    "import sklearn\n",
    "from sklearn.linear_model import LinearRegression\n",
    "from sklearn.model_selection import train_test_split"
   ]
  },
  {
   "cell_type": "markdown",
   "id": "0ce91710",
   "metadata": {},
   "source": [
    "## 1차 선형회귀분석"
   ]
  },
  {
   "cell_type": "code",
   "execution_count": 11,
   "id": "4bd26cee",
   "metadata": {},
   "outputs": [],
   "source": [
    "data_x1 = data.loc[:,[\"상승하락_합\"]]"
   ]
  },
  {
   "cell_type": "code",
   "execution_count": 49,
   "id": "40df0ee6",
   "metadata": {},
   "outputs": [
    {
     "data": {
      "text/html": [
       "<div>\n",
       "<style scoped>\n",
       "    .dataframe tbody tr th:only-of-type {\n",
       "        vertical-align: middle;\n",
       "    }\n",
       "\n",
       "    .dataframe tbody tr th {\n",
       "        vertical-align: top;\n",
       "    }\n",
       "\n",
       "    .dataframe thead th {\n",
       "        text-align: right;\n",
       "    }\n",
       "</style>\n",
       "<table border=\"1\" class=\"dataframe\">\n",
       "  <thead>\n",
       "    <tr style=\"text-align: right;\">\n",
       "      <th></th>\n",
       "      <th>총지수</th>\n",
       "    </tr>\n",
       "  </thead>\n",
       "  <tbody>\n",
       "    <tr>\n",
       "      <th>0</th>\n",
       "      <td>82.427</td>\n",
       "    </tr>\n",
       "    <tr>\n",
       "      <th>1</th>\n",
       "      <td>83.091</td>\n",
       "    </tr>\n",
       "    <tr>\n",
       "      <th>2</th>\n",
       "      <td>83.906</td>\n",
       "    </tr>\n",
       "    <tr>\n",
       "      <th>3</th>\n",
       "      <td>84.602</td>\n",
       "    </tr>\n",
       "    <tr>\n",
       "      <th>4</th>\n",
       "      <td>85.194</td>\n",
       "    </tr>\n",
       "    <tr>\n",
       "      <th>...</th>\n",
       "      <td>...</td>\n",
       "    </tr>\n",
       "    <tr>\n",
       "      <th>115</th>\n",
       "      <td>103.505</td>\n",
       "    </tr>\n",
       "    <tr>\n",
       "      <th>116</th>\n",
       "      <td>104.333</td>\n",
       "    </tr>\n",
       "    <tr>\n",
       "      <th>117</th>\n",
       "      <td>105.035</td>\n",
       "    </tr>\n",
       "    <tr>\n",
       "      <th>118</th>\n",
       "      <td>106.549</td>\n",
       "    </tr>\n",
       "    <tr>\n",
       "      <th>119</th>\n",
       "      <td>108.010</td>\n",
       "    </tr>\n",
       "  </tbody>\n",
       "</table>\n",
       "<p>120 rows × 1 columns</p>\n",
       "</div>"
      ],
      "text/plain": [
       "         총지수\n",
       "0     82.427\n",
       "1     83.091\n",
       "2     83.906\n",
       "3     84.602\n",
       "4     85.194\n",
       "..       ...\n",
       "115  103.505\n",
       "116  104.333\n",
       "117  105.035\n",
       "118  106.549\n",
       "119  108.010\n",
       "\n",
       "[120 rows x 1 columns]"
      ]
     },
     "execution_count": 49,
     "metadata": {},
     "output_type": "execute_result"
    }
   ],
   "source": [
    "data_y"
   ]
  },
  {
   "cell_type": "code",
   "execution_count": 45,
   "id": "f5ee41a8",
   "metadata": {},
   "outputs": [
    {
     "data": {
      "text/plain": [
       "array([[ 7.6270400e+05,  7.9280600e+05,  3.7639500e+05,  1.9578300e+05,\n",
       "         2.4093600e+05,  3.6134400e+05,  1.2052800e+05,  3.8642900e+05,\n",
       "         2.6602100e+05,  1.0046000e+05,  3.5239000e+04,  1.0547700e+05,\n",
       "         2.2086800e+05,  1.8073200e+05,  1.2052800e+05, -7.5135000e+04,\n",
       "         1.0154000e+04,  3.5239000e+04, -1.4035600e+05, -1.6042400e+05,\n",
       "        -7.0118000e+04, -3.4999000e+04,  5.0290000e+04,  3.0222000e+04,\n",
       "        -1.0022000e+05,  1.2554500e+05,  6.5341000e+04,  2.5598700e+05,\n",
       "         2.1585100e+05,  4.5273000e+04,  8.0392000e+04,  1.6066400e+05,\n",
       "         2.5598700e+05,  3.3124200e+05,  2.0581700e+05,  3.8141200e+05,\n",
       "         4.9680300e+05,  5.2690500e+05,  5.0683700e+05,  1.2554500e+05,\n",
       "         1.2052800e+05,  1.5564700e+05,  1.8574900e+05,  3.4629300e+05,\n",
       "         3.1619100e+05,  2.6100400e+05,  3.7137800e+05,  3.1117400e+05,\n",
       "         2.6602100e+05,  3.6636100e+05,  5.7205800e+05,  5.7205800e+05,\n",
       "         3.4629300e+05,  6.6738100e+05,  4.1151400e+05,  5.0182000e+05,\n",
       "         4.7673500e+05,  4.9680300e+05,  6.1219400e+05,  4.6168400e+05,\n",
       "         6.1219400e+05,  6.0324000e+04,  2.7605500e+05,  1.9578300e+05,\n",
       "         2.5598700e+05,  1.8073200e+05,  1.8073200e+05,  1.5564700e+05,\n",
       "         1.4561300e+05,  3.2120800e+05,  2.3090200e+05,  1.0547700e+05,\n",
       "         1.9578300e+05,  3.0222000e+04,  1.8073200e+05,  1.8574900e+05,\n",
       "         1.7571500e+05,  2.9612300e+05,  3.3124200e+05,  1.1049400e+05,\n",
       "         1.2052800e+05,  1.7571500e+05,  8.0392000e+04,  1.1551100e+05,\n",
       "         1.8574900e+05,  1.5063000e+05,  1.2052800e+05,  1.0046000e+05,\n",
       "        -8.0152000e+04, -1.0523700e+05, -1.5540700e+05,  1.0547700e+05,\n",
       "         2.0581700e+05,  1.6066400e+05, -1.2028800e+05, -9.9140000e+03,\n",
       "        -3.9622300e+05, -4.0124000e+05, -3.2598500e+05, -3.5608700e+05,\n",
       "        -1.4035600e+05, -1.4537300e+05, -2.4965000e+04,  4.0256000e+04,\n",
       "         1.1551100e+05,  2.0581700e+05,  1.9578300e+05,  3.8642900e+05,\n",
       "         2.2086800e+05,  4.4161600e+05,  1.2052800e+05,  1.0547700e+05,\n",
       "        -4.8970000e+03,  4.0649700e+05,  4.7171800e+05,  8.6304400e+05,\n",
       "         6.9748300e+05,  5.1687100e+05,  6.8744900e+05,  8.1789100e+05],\n",
       "       [ 7.5066113e+07,  7.8029051e+07,  3.7041742e+07,  1.9264114e+07,\n",
       "         2.3708521e+07,  3.5560273e+07,  1.1856769e+07,  3.8029388e+07,\n",
       "         2.6177636e+07,  9.8814770e+06,  3.4617780e+06,  1.0375300e+07,\n",
       "         2.1733229e+07,  1.7782645e+07,  1.1856769e+07, -7.4023280e+06,\n",
       "         9.9266300e+05,  3.4617780e+06, -1.3822027e+07, -1.5797319e+07,\n",
       "        -6.9085050e+06, -3.4517440e+06,  4.9432470e+06,  2.9679550e+06,\n",
       "        -9.8714430e+06,  1.2350592e+07,  6.4247160e+06,  2.5189990e+07,\n",
       "         2.1239406e+07,  4.4494240e+06,  7.9061850e+06,  1.5807353e+07,\n",
       "         2.5189990e+07,  3.2597335e+07,  2.0251760e+07,  3.7535565e+07,\n",
       "         4.8893494e+07,  5.1856432e+07,  4.9881140e+07,  1.2350592e+07,\n",
       "         1.1856769e+07,  1.5313530e+07,  1.8276468e+07,  3.4078804e+07,\n",
       "         3.1115866e+07,  2.5683813e+07,  3.6547919e+07,  3.0622043e+07,\n",
       "         2.6177636e+07,  3.6054096e+07,  5.6300839e+07,  5.6300839e+07,\n",
       "         3.4078804e+07,  6.5683476e+07,  4.0498503e+07,  4.9387317e+07,\n",
       "         4.6918202e+07,  4.8893494e+07,  6.0251423e+07,  4.5436733e+07,\n",
       "         6.0251423e+07,  5.9308930e+06,  2.7165282e+07,  1.9264114e+07,\n",
       "         2.5189990e+07,  1.7782645e+07,  1.7782645e+07,  1.5313530e+07,\n",
       "         1.4325884e+07,  3.1609689e+07,  2.2720875e+07,  1.0375300e+07,\n",
       "         1.9264114e+07,  2.9679550e+06,  1.7782645e+07,  1.8276468e+07,\n",
       "         1.7288822e+07,  2.9140574e+07,  3.2597335e+07,  1.0869123e+07,\n",
       "         1.1856769e+07,  1.7288822e+07,  7.9061850e+06,  1.1362946e+07,\n",
       "         1.8276468e+07,  1.4819707e+07,  1.1856769e+07,  9.8814770e+06,\n",
       "        -7.8961510e+06, -1.0365266e+07, -1.5303496e+07,  1.0375300e+07,\n",
       "         2.0251760e+07,  1.5807353e+07, -1.1846735e+07, -9.8262900e+05,\n",
       "        -3.9007000e+07, -3.9500823e+07, -3.2093478e+07, -3.5056416e+07,\n",
       "        -1.3822027e+07, -1.4315850e+07, -2.4640980e+06,  3.9556010e+06,\n",
       "         1.1362946e+07,  2.0251760e+07,  1.9264114e+07,  3.8029388e+07,\n",
       "         2.1733229e+07,  4.3461441e+07,  1.1856769e+07,  1.0375300e+07,\n",
       "        -4.8880600e+05,  4.0004680e+07,  4.6424379e+07,  8.4942573e+07,\n",
       "         6.8646414e+07,  5.0868786e+07,  6.7658768e+07,  8.0498166e+07]])"
      ]
     },
     "execution_count": 45,
     "metadata": {},
     "output_type": "execute_result"
    }
   ],
   "source": [
    "X.T.dot(X)"
   ]
  },
  {
   "cell_type": "code",
   "execution_count": 50,
   "id": "1ba96784",
   "metadata": {},
   "outputs": [
    {
     "data": {
      "text/plain": [
       "array([[ 1.44865107e-02, -1.47175859e-04],\n",
       "       [-1.47175859e-04,  3.52025176e-06]])"
      ]
     },
     "execution_count": 50,
     "metadata": {},
     "output_type": "execute_result"
    }
   ],
   "source": [
    "np.linalg.inv(X.T.dot(X))"
   ]
  },
  {
   "cell_type": "code",
   "execution_count": 12,
   "id": "e8a89603",
   "metadata": {},
   "outputs": [
    {
     "name": "stdout",
     "output_type": "stream",
     "text": [
      "[[ 9.33245718e+01]\n",
      " [-2.71768417e-03]]\n"
     ]
    }
   ],
   "source": [
    "x0 = np.ones((data_x1.shape[0],1))\n",
    "X = np.hstack((x0,data_x1))\n",
    "w = np.linalg.inv(X.T.dot(X)).dot(X.T).dot(data_y)\n",
    "print(w)"
   ]
  },
  {
   "cell_type": "code",
   "execution_count": 13,
   "id": "2a91bbaa",
   "metadata": {},
   "outputs": [
    {
     "data": {
      "image/png": "[encoded data removed]",
      "text/plain": [
       "<Figure size 432x288 with 1 Axes>"
      ]
     },
     "metadata": {
      "needs_background": "light"
     },
     "output_type": "display_data"
    }
   ],
   "source": [
    "plt.scatter(data_x1, data_y)\n",
    "plt.plot([0,10], [w[0], 10*w[1]+w[0]], 'r')\n",
    "plt.xlabel('x')\n",
    "plt.ylabel('y')\n",
    "plt.show()"
   ]
  },
  {
   "cell_type": "code",
   "execution_count": 14,
   "id": "e977f4cf",
   "metadata": {},
   "outputs": [],
   "source": [
    "X_train, X_test, Y_train, Y_test = train_test_split(data_x1,data_y, random_state=42)"
   ]
  },
  {
   "cell_type": "code",
   "execution_count": 15,
   "id": "f1f226b0",
   "metadata": {},
   "outputs": [
    {
     "name": "stdout",
     "output_type": "stream",
     "text": [
      "[[0.00065048]] [93.47058888]\n"
     ]
    }
   ],
   "source": [
    "clf = LinearRegression()\n",
    "clf.fit(X_train,Y_train)\n",
    "# 추정 된 모수 확인(상수항 제외) & 상수항 확인               \n",
    "print(clf.coef_,clf.intercept_)"
   ]
  },
  {
   "cell_type": "code",
   "execution_count": 16,
   "id": "45e80113",
   "metadata": {},
   "outputs": [
    {
     "data": {
      "text/plain": [
       "-0.05163598877561615"
      ]
     },
     "execution_count": 16,
     "metadata": {},
     "output_type": "execute_result"
    }
   ],
   "source": [
    "clf.predict(X_test)        # 예측\n",
    "clf.score(X_test, Y_test) # 모형 성능 평가"
   ]
  },
  {
   "cell_type": "markdown",
   "id": "0e8513d2",
   "metadata": {},
   "source": [
    "## 2차 선형회귀분석 (K-FOLD)"
   ]
  },
  {
   "cell_type": "code",
   "execution_count": 17,
   "id": "d1106be8",
   "metadata": {},
   "outputs": [
    {
     "name": "stdout",
     "output_type": "stream",
     "text": [
      "-23.603974217528275\n",
      "-62.28043266556783\n",
      "-0.18246385659297037\n",
      "-17.042446274920323\n",
      "-17.275827904369397\n",
      "총 평균 스코어.. -24.07702898379576\n"
     ]
    }
   ],
   "source": [
    "from sklearn.model_selection import KFold\n",
    "kfold = KFold(n_splits=5, shuffle= False)\n",
    "\n",
    "omg = []\n",
    "\n",
    "for train_idx, test_idx in kfold.split(data_x2, data_y) :\n",
    "    X_train, X_test = data_x2.iloc[train_idx], data_x2.iloc[test_idx]\n",
    "    Y_train, Y_test = data_y.iloc[train_idx], data_y.iloc[test_idx]\n",
    "    \n",
    "\n",
    "    clf.fit(X_train, Y_train)\n",
    "    pred = clf.predict(X_test)\n",
    "    omg.append(clf.score(X_test, Y_test))\n",
    "    \n",
    "    print(clf.score(X_test, Y_test))\n",
    "    \n",
    "print(\"총 평균 스코어..\", np.mean(omg))"
   ]
  },
  {
   "cell_type": "code",
   "execution_count": 18,
   "id": "56b65798",
   "metadata": {},
   "outputs": [
    {
     "data": {
      "text/html": [
       "<div>\n",
       "<style scoped>\n",
       "    .dataframe tbody tr th:only-of-type {\n",
       "        vertical-align: middle;\n",
       "    }\n",
       "\n",
       "    .dataframe tbody tr th {\n",
       "        vertical-align: top;\n",
       "    }\n",
       "\n",
       "    .dataframe thead th {\n",
       "        text-align: right;\n",
       "    }\n",
       "</style>\n",
       "<table border=\"1\" class=\"dataframe\">\n",
       "  <thead>\n",
       "    <tr style=\"text-align: right;\">\n",
       "      <th></th>\n",
       "      <th>fit_time</th>\n",
       "      <th>score_time</th>\n",
       "      <th>test_score</th>\n",
       "      <th>train_score</th>\n",
       "    </tr>\n",
       "  </thead>\n",
       "  <tbody>\n",
       "    <tr>\n",
       "      <th>0</th>\n",
       "      <td>0.005997</td>\n",
       "      <td>0.006001</td>\n",
       "      <td>-23.603974</td>\n",
       "      <td>0.072438</td>\n",
       "    </tr>\n",
       "    <tr>\n",
       "      <th>1</th>\n",
       "      <td>0.007004</td>\n",
       "      <td>0.004998</td>\n",
       "      <td>-62.280433</td>\n",
       "      <td>0.028177</td>\n",
       "    </tr>\n",
       "    <tr>\n",
       "      <th>2</th>\n",
       "      <td>0.005999</td>\n",
       "      <td>0.006001</td>\n",
       "      <td>-0.182464</td>\n",
       "      <td>0.027789</td>\n",
       "    </tr>\n",
       "    <tr>\n",
       "      <th>3</th>\n",
       "      <td>0.006001</td>\n",
       "      <td>0.005001</td>\n",
       "      <td>-17.042446</td>\n",
       "      <td>0.064705</td>\n",
       "    </tr>\n",
       "    <tr>\n",
       "      <th>4</th>\n",
       "      <td>0.007002</td>\n",
       "      <td>0.004998</td>\n",
       "      <td>-17.275828</td>\n",
       "      <td>0.061094</td>\n",
       "    </tr>\n",
       "  </tbody>\n",
       "</table>\n",
       "</div>"
      ],
      "text/plain": [
       "   fit_time  score_time  test_score  train_score\n",
       "0  0.005997    0.006001  -23.603974     0.072438\n",
       "1  0.007004    0.004998  -62.280433     0.028177\n",
       "2  0.005999    0.006001   -0.182464     0.027789\n",
       "3  0.006001    0.005001  -17.042446     0.064705\n",
       "4  0.007002    0.004998  -17.275828     0.061094"
      ]
     },
     "execution_count": 18,
     "metadata": {},
     "output_type": "execute_result"
    }
   ],
   "source": [
    "from sklearn.model_selection import cross_val_score, cross_validate\n",
    "from pandas import Series, DataFrame\n",
    "\n",
    "# cross_val_score 수행\n",
    "cross_val_score(clf, data_x2, data_y, cv = 5)\n",
    "# 유효성 평가\n",
    "DataFrame(cross_validate(clf, data_x2, data_y, cv = 5, return_train_score = True))"
   ]
  },
  {
   "cell_type": "markdown",
   "id": "1b0648cf",
   "metadata": {},
   "source": [
    "# 시계열"
   ]
  },
  {
   "cell_type": "code",
   "execution_count": 19,
   "id": "ba098f96",
   "metadata": {},
   "outputs": [
    {
     "data": {
      "text/html": [
       "<div>\n",
       "<style scoped>\n",
       "    .dataframe tbody tr th:only-of-type {\n",
       "        vertical-align: middle;\n",
       "    }\n",
       "\n",
       "    .dataframe tbody tr th {\n",
       "        vertical-align: top;\n",
       "    }\n",
       "\n",
       "    .dataframe thead th {\n",
       "        text-align: right;\n",
       "    }\n",
       "</style>\n",
       "<table border=\"1\" class=\"dataframe\">\n",
       "  <thead>\n",
       "    <tr style=\"text-align: right;\">\n",
       "      <th></th>\n",
       "      <th>ds</th>\n",
       "      <th>y</th>\n",
       "    </tr>\n",
       "  </thead>\n",
       "  <tbody>\n",
       "    <tr>\n",
       "      <th>0</th>\n",
       "      <td>2011-01-01</td>\n",
       "      <td>82.427</td>\n",
       "    </tr>\n",
       "    <tr>\n",
       "      <th>1</th>\n",
       "      <td>2011-02-01</td>\n",
       "      <td>83.091</td>\n",
       "    </tr>\n",
       "    <tr>\n",
       "      <th>2</th>\n",
       "      <td>2011-03-01</td>\n",
       "      <td>83.906</td>\n",
       "    </tr>\n",
       "    <tr>\n",
       "      <th>3</th>\n",
       "      <td>2011-04-01</td>\n",
       "      <td>84.602</td>\n",
       "    </tr>\n",
       "    <tr>\n",
       "      <th>4</th>\n",
       "      <td>2011-05-01</td>\n",
       "      <td>85.194</td>\n",
       "    </tr>\n",
       "    <tr>\n",
       "      <th>...</th>\n",
       "      <td>...</td>\n",
       "      <td>...</td>\n",
       "    </tr>\n",
       "    <tr>\n",
       "      <th>115</th>\n",
       "      <td>2020-08-01</td>\n",
       "      <td>103.505</td>\n",
       "    </tr>\n",
       "    <tr>\n",
       "      <th>116</th>\n",
       "      <td>2020-09-01</td>\n",
       "      <td>104.333</td>\n",
       "    </tr>\n",
       "    <tr>\n",
       "      <th>117</th>\n",
       "      <td>2020-10-01</td>\n",
       "      <td>105.035</td>\n",
       "    </tr>\n",
       "    <tr>\n",
       "      <th>118</th>\n",
       "      <td>2020-11-01</td>\n",
       "      <td>106.549</td>\n",
       "    </tr>\n",
       "    <tr>\n",
       "      <th>119</th>\n",
       "      <td>2020-12-01</td>\n",
       "      <td>108.010</td>\n",
       "    </tr>\n",
       "  </tbody>\n",
       "</table>\n",
       "<p>120 rows × 2 columns</p>\n",
       "</div>"
      ],
      "text/plain": [
       "            ds        y\n",
       "0   2011-01-01   82.427\n",
       "1   2011-02-01   83.091\n",
       "2   2011-03-01   83.906\n",
       "3   2011-04-01   84.602\n",
       "4   2011-05-01   85.194\n",
       "..         ...      ...\n",
       "115 2020-08-01  103.505\n",
       "116 2020-09-01  104.333\n",
       "117 2020-10-01  105.035\n",
       "118 2020-11-01  106.549\n",
       "119 2020-12-01  108.010\n",
       "\n",
       "[120 rows x 2 columns]"
      ]
     },
     "execution_count": 19,
     "metadata": {},
     "output_type": "execute_result"
    }
   ],
   "source": [
    "con = lambda x : x[:4] + \"-\" + x[4:]\n",
    "data_p=data.loc[:,[\"일자\",\"총지수\"]]\n",
    "data_p[\"일자\"]= data_p[\"일자\"].astype(\"str\")\n",
    "data_p[\"일자\"] = data_p[\"일자\"].map(con)\n",
    "data_p.rename(columns={\"일자\":\"ds\",\"총지수\": \"y\"}, inplace=True)\n",
    "data_p= data_p.astype({\"ds\":\"datetime64[ns]\",\"y\":\"float\"})\n",
    "data_p"
   ]
  },
  {
   "cell_type": "code",
   "execution_count": 20,
   "id": "80021c06",
   "metadata": {},
   "outputs": [
    {
     "name": "stderr",
     "output_type": "stream",
     "text": [
      "Importing plotly failed. Interactive plots will not work.\n",
      "INFO:fbprophet:Disabling weekly seasonality. Run prophet with weekly_seasonality=True to override this.\n",
      "INFO:fbprophet:Disabling daily seasonality. Run prophet with daily_seasonality=True to override this.\n"
     ]
    },
    {
     "data": {
      "text/html": [
       "<div>\n",
       "<style scoped>\n",
       "    .dataframe tbody tr th:only-of-type {\n",
       "        vertical-align: middle;\n",
       "    }\n",
       "\n",
       "    .dataframe tbody tr th {\n",
       "        vertical-align: top;\n",
       "    }\n",
       "\n",
       "    .dataframe thead th {\n",
       "        text-align: right;\n",
       "    }\n",
       "</style>\n",
       "<table border=\"1\" class=\"dataframe\">\n",
       "  <thead>\n",
       "    <tr style=\"text-align: right;\">\n",
       "      <th></th>\n",
       "      <th>ds</th>\n",
       "      <th>trend</th>\n",
       "      <th>yhat_lower</th>\n",
       "      <th>yhat_upper</th>\n",
       "      <th>yhat</th>\n",
       "    </tr>\n",
       "  </thead>\n",
       "  <tbody>\n",
       "    <tr>\n",
       "      <th>119</th>\n",
       "      <td>2020-12-01</td>\n",
       "      <td>104.218382</td>\n",
       "      <td>104.010594</td>\n",
       "      <td>105.683644</td>\n",
       "      <td>104.884223</td>\n",
       "    </tr>\n",
       "    <tr>\n",
       "      <th>120</th>\n",
       "      <td>2020-12-31</td>\n",
       "      <td>104.469028</td>\n",
       "      <td>103.709994</td>\n",
       "      <td>105.513838</td>\n",
       "      <td>104.573080</td>\n",
       "    </tr>\n",
       "    <tr>\n",
       "      <th>121</th>\n",
       "      <td>2021-01-31</td>\n",
       "      <td>104.728028</td>\n",
       "      <td>103.759303</td>\n",
       "      <td>105.442791</td>\n",
       "      <td>104.597750</td>\n",
       "    </tr>\n",
       "    <tr>\n",
       "      <th>122</th>\n",
       "      <td>2021-02-28</td>\n",
       "      <td>104.961964</td>\n",
       "      <td>103.985063</td>\n",
       "      <td>105.714911</td>\n",
       "      <td>104.862056</td>\n",
       "    </tr>\n",
       "    <tr>\n",
       "      <th>123</th>\n",
       "      <td>2021-03-31</td>\n",
       "      <td>105.220965</td>\n",
       "      <td>104.185197</td>\n",
       "      <td>105.870591</td>\n",
       "      <td>105.017133</td>\n",
       "    </tr>\n",
       "    <tr>\n",
       "      <th>124</th>\n",
       "      <td>2021-04-30</td>\n",
       "      <td>105.471611</td>\n",
       "      <td>104.408933</td>\n",
       "      <td>106.115452</td>\n",
       "      <td>105.231440</td>\n",
       "    </tr>\n",
       "  </tbody>\n",
       "</table>\n",
       "</div>"
      ],
      "text/plain": [
       "            ds       trend  yhat_lower  yhat_upper        yhat\n",
       "119 2020-12-01  104.218382  104.010594  105.683644  104.884223\n",
       "120 2020-12-31  104.469028  103.709994  105.513838  104.573080\n",
       "121 2021-01-31  104.728028  103.759303  105.442791  104.597750\n",
       "122 2021-02-28  104.961964  103.985063  105.714911  104.862056\n",
       "123 2021-03-31  105.220965  104.185197  105.870591  105.017133\n",
       "124 2021-04-30  105.471611  104.408933  106.115452  105.231440"
      ]
     },
     "execution_count": 20,
     "metadata": {},
     "output_type": "execute_result"
    }
   ],
   "source": [
    "from fbprophet import Prophet\n",
    "pr = Prophet()\n",
    "pr.fit(data_p)\n",
    "fu = pr.make_future_dataframe(periods=5,freq=\"M\")\n",
    "fu_data = pr.predict(fu)\n",
    "fu_data.loc[:,['ds','trend',\"yhat_lower\",\"yhat_upper\",\"yhat\"]].tail(6)"
   ]
  },
  {
   "cell_type": "code",
   "execution_count": 21,
   "id": "8369d5d1",
   "metadata": {},
   "outputs": [
    {
     "data": {
      "image/png": "[encoded data removed]",
      "text/plain": [
       "<Figure size 720x432 with 1 Axes>"
      ]
     },
     "execution_count": 21,
     "metadata": {},
     "output_type": "execute_result"
    },
    {
     "data": {
      "image/png": "[encoded data removed]",
      "text/plain": [
       "<Figure size 720x432 with 1 Axes>"
      ]
     },
     "metadata": {},
     "output_type": "display_data"
    }
   ],
   "source": [
    "pr.plot(fu_data.loc[:,['ds','trend',\"yhat_lower\",\"yhat_upper\",\"yhat\"]])"
   ]
  },
  {
   "cell_type": "code",
   "execution_count": 22,
   "id": "c5f8c40c",
   "metadata": {},
   "outputs": [],
   "source": [
    "fu_data_r = fu_data.loc[:,['ds',\"yhat_lower\",\"yhat_upper\",\"yhat\"]].tail(6)"
   ]
  },
  {
   "cell_type": "code",
   "execution_count": 23,
   "id": "fa58f1de",
   "metadata": {},
   "outputs": [
    {
     "data": {
      "text/plain": [
       "ds\n",
       "2020-12-01    104.884223\n",
       "2020-12-31    104.573080\n",
       "2021-01-31    104.597750\n",
       "2021-02-28    104.862056\n",
       "2021-03-31    105.017133\n",
       "2021-04-30    105.231440\n",
       "Name: yhat, dtype: float64"
      ]
     },
     "execution_count": 23,
     "metadata": {},
     "output_type": "execute_result"
    }
   ],
   "source": [
    "fu_data_r.index = fu_data_r[\"ds\"]\n",
    "fu_data_r.drop(columns=\"ds\", axis=1, inplace=True)\n",
    "fu_data_r[\"yhat\"]"
   ]
  },
  {
   "cell_type": "code",
   "execution_count": 24,
   "id": "341e74ed",
   "metadata": {},
   "outputs": [],
   "source": [
    "from statsmodels.tsa.stattools import adfuller\n",
    "def adf_test(df) :\n",
    "    result = adfuller(df.values)\n",
    "    print(\"ADF Statistics: %f\" %result[0])\n",
    "    print(\"p-value: %f\" % result[1])\n",
    "    print(\"Critical values:\")\n",
    "    for key, value in result[4].items():\n",
    "        print(\"\\t%s: %.3f\" % (key, value))\n",
    "    return result"
   ]
  },
  {
   "cell_type": "code",
   "execution_count": 25,
   "id": "ce752a0f",
   "metadata": {},
   "outputs": [
    {
     "name": "stdout",
     "output_type": "stream",
     "text": [
      "ADF Test: House Price\n",
      "ADF Statistics: -0.364525\n",
      "p-value: 0.915856\n",
      "Critical values:\n",
      "\t1%: -7.355\n",
      "\t5%: -4.474\n",
      "\t10%: -3.127\n"
     ]
    }
   ],
   "source": [
    "print(\"ADF Test: House Price\")\n",
    "result = adf_test(fu_data_r[\"yhat\"])"
   ]
  },
  {
   "cell_type": "code",
   "execution_count": 26,
   "id": "7f28bd25",
   "metadata": {},
   "outputs": [
    {
     "data": {
      "text/html": [
       "<div>\n",
       "<style scoped>\n",
       "    .dataframe tbody tr th:only-of-type {\n",
       "        vertical-align: middle;\n",
       "    }\n",
       "\n",
       "    .dataframe tbody tr th {\n",
       "        vertical-align: top;\n",
       "    }\n",
       "\n",
       "    .dataframe thead th {\n",
       "        text-align: right;\n",
       "    }\n",
       "</style>\n",
       "<table border=\"1\" class=\"dataframe\">\n",
       "  <thead>\n",
       "    <tr style=\"text-align: right;\">\n",
       "      <th></th>\n",
       "      <th>ds</th>\n",
       "      <th>y</th>\n",
       "    </tr>\n",
       "  </thead>\n",
       "  <tbody>\n",
       "    <tr>\n",
       "      <th>0</th>\n",
       "      <td>2011-01-01</td>\n",
       "      <td>82.427</td>\n",
       "    </tr>\n",
       "    <tr>\n",
       "      <th>1</th>\n",
       "      <td>2011-02-01</td>\n",
       "      <td>83.091</td>\n",
       "    </tr>\n",
       "    <tr>\n",
       "      <th>2</th>\n",
       "      <td>2011-03-01</td>\n",
       "      <td>83.906</td>\n",
       "    </tr>\n",
       "    <tr>\n",
       "      <th>3</th>\n",
       "      <td>2011-04-01</td>\n",
       "      <td>84.602</td>\n",
       "    </tr>\n",
       "    <tr>\n",
       "      <th>4</th>\n",
       "      <td>2011-05-01</td>\n",
       "      <td>85.194</td>\n",
       "    </tr>\n",
       "    <tr>\n",
       "      <th>...</th>\n",
       "      <td>...</td>\n",
       "      <td>...</td>\n",
       "    </tr>\n",
       "    <tr>\n",
       "      <th>115</th>\n",
       "      <td>2020-08-01</td>\n",
       "      <td>103.505</td>\n",
       "    </tr>\n",
       "    <tr>\n",
       "      <th>116</th>\n",
       "      <td>2020-09-01</td>\n",
       "      <td>104.333</td>\n",
       "    </tr>\n",
       "    <tr>\n",
       "      <th>117</th>\n",
       "      <td>2020-10-01</td>\n",
       "      <td>105.035</td>\n",
       "    </tr>\n",
       "    <tr>\n",
       "      <th>118</th>\n",
       "      <td>2020-11-01</td>\n",
       "      <td>106.549</td>\n",
       "    </tr>\n",
       "    <tr>\n",
       "      <th>119</th>\n",
       "      <td>2020-12-01</td>\n",
       "      <td>108.010</td>\n",
       "    </tr>\n",
       "  </tbody>\n",
       "</table>\n",
       "<p>120 rows × 2 columns</p>\n",
       "</div>"
      ],
      "text/plain": [
       "            ds        y\n",
       "0   2011-01-01   82.427\n",
       "1   2011-02-01   83.091\n",
       "2   2011-03-01   83.906\n",
       "3   2011-04-01   84.602\n",
       "4   2011-05-01   85.194\n",
       "..         ...      ...\n",
       "115 2020-08-01  103.505\n",
       "116 2020-09-01  104.333\n",
       "117 2020-10-01  105.035\n",
       "118 2020-11-01  106.549\n",
       "119 2020-12-01  108.010\n",
       "\n",
       "[120 rows x 2 columns]"
      ]
     },
     "execution_count": 26,
     "metadata": {},
     "output_type": "execute_result"
    }
   ],
   "source": [
    "data_p"
   ]
  },
  {
   "cell_type": "code",
   "execution_count": 27,
   "id": "fa3c84cc",
   "metadata": {},
   "outputs": [],
   "source": [
    "data_p[\"ratio_y\"] = 100*data_p[\"y\"].pct_change()\n",
    "data_p.dropna(inplace=True)\n",
    "data_p.head()\n",
    "data_p[\"y\"] = data_p[\"ratio_y\"]\n"
   ]
  },
  {
   "cell_type": "code",
   "execution_count": 28,
   "id": "babb74fa",
   "metadata": {},
   "outputs": [
    {
     "data": {
      "text/html": [
       "<div>\n",
       "<style scoped>\n",
       "    .dataframe tbody tr th:only-of-type {\n",
       "        vertical-align: middle;\n",
       "    }\n",
       "\n",
       "    .dataframe tbody tr th {\n",
       "        vertical-align: top;\n",
       "    }\n",
       "\n",
       "    .dataframe thead th {\n",
       "        text-align: right;\n",
       "    }\n",
       "</style>\n",
       "<table border=\"1\" class=\"dataframe\">\n",
       "  <thead>\n",
       "    <tr style=\"text-align: right;\">\n",
       "      <th></th>\n",
       "      <th>ds</th>\n",
       "      <th>y</th>\n",
       "    </tr>\n",
       "  </thead>\n",
       "  <tbody>\n",
       "    <tr>\n",
       "      <th>1</th>\n",
       "      <td>2011-02-01</td>\n",
       "      <td>0.805561</td>\n",
       "    </tr>\n",
       "    <tr>\n",
       "      <th>2</th>\n",
       "      <td>2011-03-01</td>\n",
       "      <td>0.980852</td>\n",
       "    </tr>\n",
       "    <tr>\n",
       "      <th>3</th>\n",
       "      <td>2011-04-01</td>\n",
       "      <td>0.829500</td>\n",
       "    </tr>\n",
       "    <tr>\n",
       "      <th>4</th>\n",
       "      <td>2011-05-01</td>\n",
       "      <td>0.699747</td>\n",
       "    </tr>\n",
       "    <tr>\n",
       "      <th>5</th>\n",
       "      <td>2011-06-01</td>\n",
       "      <td>0.495340</td>\n",
       "    </tr>\n",
       "    <tr>\n",
       "      <th>...</th>\n",
       "      <td>...</td>\n",
       "      <td>...</td>\n",
       "    </tr>\n",
       "    <tr>\n",
       "      <th>115</th>\n",
       "      <td>2020-08-01</td>\n",
       "      <td>0.781874</td>\n",
       "    </tr>\n",
       "    <tr>\n",
       "      <th>116</th>\n",
       "      <td>2020-09-01</td>\n",
       "      <td>0.799961</td>\n",
       "    </tr>\n",
       "    <tr>\n",
       "      <th>117</th>\n",
       "      <td>2020-10-01</td>\n",
       "      <td>0.672846</td>\n",
       "    </tr>\n",
       "    <tr>\n",
       "      <th>118</th>\n",
       "      <td>2020-11-01</td>\n",
       "      <td>1.441424</td>\n",
       "    </tr>\n",
       "    <tr>\n",
       "      <th>119</th>\n",
       "      <td>2020-12-01</td>\n",
       "      <td>1.371200</td>\n",
       "    </tr>\n",
       "  </tbody>\n",
       "</table>\n",
       "<p>119 rows × 2 columns</p>\n",
       "</div>"
      ],
      "text/plain": [
       "            ds         y\n",
       "1   2011-02-01  0.805561\n",
       "2   2011-03-01  0.980852\n",
       "3   2011-04-01  0.829500\n",
       "4   2011-05-01  0.699747\n",
       "5   2011-06-01  0.495340\n",
       "..         ...       ...\n",
       "115 2020-08-01  0.781874\n",
       "116 2020-09-01  0.799961\n",
       "117 2020-10-01  0.672846\n",
       "118 2020-11-01  1.441424\n",
       "119 2020-12-01  1.371200\n",
       "\n",
       "[119 rows x 2 columns]"
      ]
     },
     "execution_count": 28,
     "metadata": {},
     "output_type": "execute_result"
    }
   ],
   "source": [
    "data_p.drop(columns=\"ratio_y\", axis=1 , inplace=True)\n",
    "data_p"
   ]
  },
  {
   "cell_type": "code",
   "execution_count": 29,
   "id": "e400b80e",
   "metadata": {},
   "outputs": [
    {
     "name": "stderr",
     "output_type": "stream",
     "text": [
      "INFO:fbprophet:Disabling weekly seasonality. Run prophet with weekly_seasonality=True to override this.\n",
      "INFO:fbprophet:Disabling daily seasonality. Run prophet with daily_seasonality=True to override this.\n"
     ]
    },
    {
     "data": {
      "text/html": [
       "<div>\n",
       "<style scoped>\n",
       "    .dataframe tbody tr th:only-of-type {\n",
       "        vertical-align: middle;\n",
       "    }\n",
       "\n",
       "    .dataframe tbody tr th {\n",
       "        vertical-align: top;\n",
       "    }\n",
       "\n",
       "    .dataframe thead th {\n",
       "        text-align: right;\n",
       "    }\n",
       "</style>\n",
       "<table border=\"1\" class=\"dataframe\">\n",
       "  <thead>\n",
       "    <tr style=\"text-align: right;\">\n",
       "      <th></th>\n",
       "      <th>ds</th>\n",
       "      <th>trend</th>\n",
       "      <th>yhat_lower</th>\n",
       "      <th>yhat_upper</th>\n",
       "      <th>yhat</th>\n",
       "    </tr>\n",
       "  </thead>\n",
       "  <tbody>\n",
       "    <tr>\n",
       "      <th>118</th>\n",
       "      <td>2020-12-01</td>\n",
       "      <td>0.301267</td>\n",
       "      <td>0.001007</td>\n",
       "      <td>0.670061</td>\n",
       "      <td>0.333220</td>\n",
       "    </tr>\n",
       "    <tr>\n",
       "      <th>119</th>\n",
       "      <td>2020-12-31</td>\n",
       "      <td>0.302490</td>\n",
       "      <td>-0.164025</td>\n",
       "      <td>0.515965</td>\n",
       "      <td>0.188745</td>\n",
       "    </tr>\n",
       "    <tr>\n",
       "      <th>120</th>\n",
       "      <td>2021-01-31</td>\n",
       "      <td>0.303754</td>\n",
       "      <td>-0.075518</td>\n",
       "      <td>0.628223</td>\n",
       "      <td>0.281111</td>\n",
       "    </tr>\n",
       "    <tr>\n",
       "      <th>121</th>\n",
       "      <td>2021-02-28</td>\n",
       "      <td>0.304895</td>\n",
       "      <td>-0.045210</td>\n",
       "      <td>0.671111</td>\n",
       "      <td>0.330627</td>\n",
       "    </tr>\n",
       "    <tr>\n",
       "      <th>122</th>\n",
       "      <td>2021-03-31</td>\n",
       "      <td>0.306159</td>\n",
       "      <td>-0.073560</td>\n",
       "      <td>0.617876</td>\n",
       "      <td>0.277996</td>\n",
       "    </tr>\n",
       "    <tr>\n",
       "      <th>123</th>\n",
       "      <td>2021-04-30</td>\n",
       "      <td>0.307382</td>\n",
       "      <td>-0.112071</td>\n",
       "      <td>0.556632</td>\n",
       "      <td>0.224325</td>\n",
       "    </tr>\n",
       "  </tbody>\n",
       "</table>\n",
       "</div>"
      ],
      "text/plain": [
       "            ds     trend  yhat_lower  yhat_upper      yhat\n",
       "118 2020-12-01  0.301267    0.001007    0.670061  0.333220\n",
       "119 2020-12-31  0.302490   -0.164025    0.515965  0.188745\n",
       "120 2021-01-31  0.303754   -0.075518    0.628223  0.281111\n",
       "121 2021-02-28  0.304895   -0.045210    0.671111  0.330627\n",
       "122 2021-03-31  0.306159   -0.073560    0.617876  0.277996\n",
       "123 2021-04-30  0.307382   -0.112071    0.556632  0.224325"
      ]
     },
     "execution_count": 29,
     "metadata": {},
     "output_type": "execute_result"
    }
   ],
   "source": [
    "pr = Prophet()\n",
    "pr.fit(data_p)\n",
    "fu = pr.make_future_dataframe(periods=5,freq=\"M\")\n",
    "fu_data = pr.predict(fu)\n",
    "fu_data.loc[:,['ds','trend',\"yhat_lower\",\"yhat_upper\",\"yhat\"]].tail(6)"
   ]
  },
  {
   "cell_type": "code",
   "execution_count": 30,
   "id": "09afb0a7",
   "metadata": {},
   "outputs": [
    {
     "data": {
      "image/png": "[encoded data removed]",
      "text/plain": [
       "<Figure size 720x432 with 1 Axes>"
      ]
     },
     "execution_count": 30,
     "metadata": {},
     "output_type": "execute_result"
    },
    {
     "data": {
      "image/png": "[encoded data removed]",
      "text/plain": [
       "<Figure size 720x432 with 1 Axes>"
      ]
     },
     "metadata": {},
     "output_type": "display_data"
    }
   ],
   "source": [
    "pr.plot(fu_data.loc[:,['ds','trend',\"yhat_lower\",\"yhat_upper\",\"yhat\"]])"
   ]
  },
  {
   "cell_type": "code",
   "execution_count": 31,
   "id": "d7e9ca25",
   "metadata": {},
   "outputs": [],
   "source": [
    "fu_data_r = fu_data.loc[:,['ds',\"yhat_lower\",\"yhat_upper\",\"yhat\"]].tail(6)"
   ]
  },
  {
   "cell_type": "code",
   "execution_count": 32,
   "id": "bcc318e4",
   "metadata": {},
   "outputs": [
    {
     "name": "stdout",
     "output_type": "stream",
     "text": [
      "ADF Test: House Price Ratio\n",
      "ADF Statistics: -3.980444\n",
      "p-value: 0.001516\n",
      "Critical values:\n",
      "\t1%: -7.355\n",
      "\t5%: -4.474\n",
      "\t10%: -3.127\n"
     ]
    }
   ],
   "source": [
    "fu_data_r.index = fu_data_r[\"ds\"]\n",
    "fu_data_r.drop(columns=\"ds\", axis=1, inplace=True)\n",
    "print(\"ADF Test: House Price Ratio\")\n",
    "result = adf_test(fu_data_r[\"yhat\"])"
   ]
  },
  {
   "cell_type": "code",
   "execution_count": null,
   "id": "b0ae4781",
   "metadata": {},
   "outputs": [],
   "source": []
  },
  {
   "cell_type": "code",
   "execution_count": null,
   "id": "4478e4f4",
   "metadata": {},
   "outputs": [],
   "source": []
  }
 ],
 "metadata": {
  "kernelspec": {
   "display_name": "Python 3",
   "language": "python",
   "name": "python3"
  },
  "language_info": {
   "codemirror_mode": {
    "name": "ipython",
    "version": 3
   },
   "file_extension": ".py",
   "mimetype": "text/x-python",
   "name": "python",
   "nbconvert_exporter": "python",
   "pygments_lexer": "ipython3",
   "version": "3.8.10"
  }
 },
 "nbformat": 4,
 "nbformat_minor": 5
}
